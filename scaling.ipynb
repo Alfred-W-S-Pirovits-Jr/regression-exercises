{
 "cells": [
  {
   "cell_type": "code",
   "execution_count": null,
   "id": "3e93d0c4",
   "metadata": {},
   "outputs": [],
   "source": [
    "from env import get_db_url\n",
    "import numpy as np\n",
    "import pandas as pd\n",
    "import os\n",
    "import acquire"
   ]
  },
  {
   "cell_type": "code",
   "execution_count": null,
   "id": "2e7db22f",
   "metadata": {},
   "outputs": [],
   "source": [
    "def wrangle_zillow():\n",
    "    zillow = acquire.get_zillow_data()\n",
    "    zillow = zillow.dropna()\n",
    "    zillow = zillow.rename(columns = {'bedroomcnt': 'bedrooms',\n",
    "                                 'bathroomcnt': 'bathrooms',\n",
    "                                 'calculatedfinishedsquarefeet': 'sqft',\n",
    "                                 'taxvaluedollarcnt': 'tax_value',\n",
    "                                 'yearbuilt': 'year_built',\n",
    "                                 'taxamount': 'tax_amount'})\n",
    "    zillow.drop_duplicates(inplace=True)\n",
    "    return zillow\n",
    "wrangle_zillow()"
   ]
  }
 ],
 "metadata": {
  "kernelspec": {
   "display_name": "Python 3 (ipykernel)",
   "language": "python",
   "name": "python3"
  },
  "language_info": {
   "codemirror_mode": {
    "name": "ipython",
    "version": 3
   },
   "file_extension": ".py",
   "mimetype": "text/x-python",
   "name": "python",
   "nbconvert_exporter": "python",
   "pygments_lexer": "ipython3",
   "version": "3.10.9"
  }
 },
 "nbformat": 4,
 "nbformat_minor": 5
}
