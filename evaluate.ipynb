{
 "cells": [
  {
   "cell_type": "code",
   "execution_count": 52,
   "id": "47b3ed50",
   "metadata": {},
   "outputs": [],
   "source": [
    "from env import get_db_url\n",
    "import numpy as np\n",
    "import pandas as pd\n",
    "import os\n",
    "import acquire\n",
    "import prepare\n",
    "import wrangle\n",
    "import matplotlib.pyplot as plt\n",
    "from scipy import stats\n",
    "import sklearn.preprocessing\n",
    "from sklearn.model_selection import train_test_split\n",
    "import pandas as pd\n",
    "import seaborn as sns\n",
    "import explore\n",
    "\n",
    "from math import sqrt\n",
    "from sklearn.linear_model import LinearRegression\n",
    "from sklearn.metrics import mean_squared_error, r2_score, explained_variance_score"
   ]
  },
  {
   "cell_type": "markdown",
   "id": "9fd0dc15",
   "metadata": {},
   "source": [
    "### Load your zillow dataset."
   ]
  },
  {
   "cell_type": "code",
   "execution_count": 2,
   "id": "4e00f975",
   "metadata": {},
   "outputs": [],
   "source": [
    "train, validate, test = prepare.split_data(wrangle.wrangle_zillow())"
   ]
  },
  {
   "cell_type": "code",
   "execution_count": 3,
   "id": "2bb031c1",
   "metadata": {},
   "outputs": [
    {
     "data": {
      "text/plain": [
       "((1278128, 7), (426043, 7), (426043, 7))"
      ]
     },
     "execution_count": 3,
     "metadata": {},
     "output_type": "execute_result"
    }
   ],
   "source": [
    "train.shape, validate.shape, test.shape"
   ]
  },
  {
   "cell_type": "code",
   "execution_count": 5,
   "id": "b055cf5d",
   "metadata": {},
   "outputs": [
    {
     "data": {
      "text/html": [
       "<div>\n",
       "<style scoped>\n",
       "    .dataframe tbody tr th:only-of-type {\n",
       "        vertical-align: middle;\n",
       "    }\n",
       "\n",
       "    .dataframe tbody tr th {\n",
       "        vertical-align: top;\n",
       "    }\n",
       "\n",
       "    .dataframe thead th {\n",
       "        text-align: right;\n",
       "    }\n",
       "</style>\n",
       "<table border=\"1\" class=\"dataframe\">\n",
       "  <thead>\n",
       "    <tr style=\"text-align: right;\">\n",
       "      <th></th>\n",
       "      <th>bedrooms</th>\n",
       "      <th>bathrooms</th>\n",
       "      <th>sqft</th>\n",
       "      <th>tax_value</th>\n",
       "      <th>year_built</th>\n",
       "      <th>tax_amount</th>\n",
       "      <th>fips</th>\n",
       "    </tr>\n",
       "  </thead>\n",
       "  <tbody>\n",
       "    <tr>\n",
       "      <th>1844941</th>\n",
       "      <td>3.0</td>\n",
       "      <td>2.0</td>\n",
       "      <td>1520.0</td>\n",
       "      <td>420429.0</td>\n",
       "      <td>1921.0</td>\n",
       "      <td>5174.91</td>\n",
       "      <td>6037.0</td>\n",
       "    </tr>\n",
       "    <tr>\n",
       "      <th>824995</th>\n",
       "      <td>5.0</td>\n",
       "      <td>3.0</td>\n",
       "      <td>2935.0</td>\n",
       "      <td>391054.0</td>\n",
       "      <td>1954.0</td>\n",
       "      <td>3399.33</td>\n",
       "      <td>6037.0</td>\n",
       "    </tr>\n",
       "    <tr>\n",
       "      <th>1214129</th>\n",
       "      <td>4.0</td>\n",
       "      <td>4.0</td>\n",
       "      <td>3394.0</td>\n",
       "      <td>1199447.0</td>\n",
       "      <td>1958.0</td>\n",
       "      <td>13254.74</td>\n",
       "      <td>6059.0</td>\n",
       "    </tr>\n",
       "    <tr>\n",
       "      <th>1566096</th>\n",
       "      <td>2.0</td>\n",
       "      <td>2.0</td>\n",
       "      <td>1048.0</td>\n",
       "      <td>187230.0</td>\n",
       "      <td>1925.0</td>\n",
       "      <td>3364.40</td>\n",
       "      <td>6037.0</td>\n",
       "    </tr>\n",
       "    <tr>\n",
       "      <th>1259406</th>\n",
       "      <td>4.0</td>\n",
       "      <td>3.0</td>\n",
       "      <td>2843.0</td>\n",
       "      <td>193625.0</td>\n",
       "      <td>2005.0</td>\n",
       "      <td>3340.72</td>\n",
       "      <td>6037.0</td>\n",
       "    </tr>\n",
       "    <tr>\n",
       "      <th>...</th>\n",
       "      <td>...</td>\n",
       "      <td>...</td>\n",
       "      <td>...</td>\n",
       "      <td>...</td>\n",
       "      <td>...</td>\n",
       "      <td>...</td>\n",
       "      <td>...</td>\n",
       "    </tr>\n",
       "    <tr>\n",
       "      <th>2036394</th>\n",
       "      <td>3.0</td>\n",
       "      <td>3.0</td>\n",
       "      <td>2162.0</td>\n",
       "      <td>230635.0</td>\n",
       "      <td>1958.0</td>\n",
       "      <td>2928.20</td>\n",
       "      <td>6037.0</td>\n",
       "    </tr>\n",
       "    <tr>\n",
       "      <th>551645</th>\n",
       "      <td>5.0</td>\n",
       "      <td>3.0</td>\n",
       "      <td>3054.0</td>\n",
       "      <td>324446.0</td>\n",
       "      <td>1996.0</td>\n",
       "      <td>4652.65</td>\n",
       "      <td>6037.0</td>\n",
       "    </tr>\n",
       "    <tr>\n",
       "      <th>1883454</th>\n",
       "      <td>4.0</td>\n",
       "      <td>2.5</td>\n",
       "      <td>2688.0</td>\n",
       "      <td>979673.0</td>\n",
       "      <td>2000.0</td>\n",
       "      <td>10920.26</td>\n",
       "      <td>6059.0</td>\n",
       "    </tr>\n",
       "    <tr>\n",
       "      <th>1292898</th>\n",
       "      <td>5.0</td>\n",
       "      <td>3.0</td>\n",
       "      <td>4354.0</td>\n",
       "      <td>663628.0</td>\n",
       "      <td>1997.0</td>\n",
       "      <td>7292.88</td>\n",
       "      <td>6111.0</td>\n",
       "    </tr>\n",
       "    <tr>\n",
       "      <th>357051</th>\n",
       "      <td>4.0</td>\n",
       "      <td>2.0</td>\n",
       "      <td>1799.0</td>\n",
       "      <td>334013.0</td>\n",
       "      <td>1962.0</td>\n",
       "      <td>4167.48</td>\n",
       "      <td>6037.0</td>\n",
       "    </tr>\n",
       "  </tbody>\n",
       "</table>\n",
       "<p>1278128 rows × 7 columns</p>\n",
       "</div>"
      ],
      "text/plain": [
       "         bedrooms  bathrooms    sqft  tax_value  year_built  tax_amount  \\\n",
       "1844941       3.0        2.0  1520.0   420429.0      1921.0     5174.91   \n",
       "824995        5.0        3.0  2935.0   391054.0      1954.0     3399.33   \n",
       "1214129       4.0        4.0  3394.0  1199447.0      1958.0    13254.74   \n",
       "1566096       2.0        2.0  1048.0   187230.0      1925.0     3364.40   \n",
       "1259406       4.0        3.0  2843.0   193625.0      2005.0     3340.72   \n",
       "...           ...        ...     ...        ...         ...         ...   \n",
       "2036394       3.0        3.0  2162.0   230635.0      1958.0     2928.20   \n",
       "551645        5.0        3.0  3054.0   324446.0      1996.0     4652.65   \n",
       "1883454       4.0        2.5  2688.0   979673.0      2000.0    10920.26   \n",
       "1292898       5.0        3.0  4354.0   663628.0      1997.0     7292.88   \n",
       "357051        4.0        2.0  1799.0   334013.0      1962.0     4167.48   \n",
       "\n",
       "           fips  \n",
       "1844941  6037.0  \n",
       "824995   6037.0  \n",
       "1214129  6059.0  \n",
       "1566096  6037.0  \n",
       "1259406  6037.0  \n",
       "...         ...  \n",
       "2036394  6037.0  \n",
       "551645   6037.0  \n",
       "1883454  6059.0  \n",
       "1292898  6111.0  \n",
       "357051   6037.0  \n",
       "\n",
       "[1278128 rows x 7 columns]"
      ]
     },
     "execution_count": 5,
     "metadata": {},
     "output_type": "execute_result"
    }
   ],
   "source": [
    "train"
   ]
  },
  {
   "cell_type": "markdown",
   "id": "405b17e0",
   "metadata": {},
   "source": [
    "### Fit a linear regression model (ordinary least squares) and compute yhat, predictions of taxvaluedollarcnt using only calculatedfinishedsqft."
   ]
  },
  {
   "cell_type": "code",
   "execution_count": 6,
   "id": "a7bba9ac",
   "metadata": {},
   "outputs": [],
   "source": [
    "from sklearn.linear_model import LinearRegression"
   ]
  },
  {
   "cell_type": "markdown",
   "id": "2f35a943",
   "metadata": {},
   "source": [
    "### Here is some sample code to get you started:\n",
    "\n",
    "\n",
    "##### from sklearn.linear_model import LinearRegression\n",
    "\n",
    "### assuming X and y are already defined\n",
    "##### model = LinearRegression().fit(X, y)\n",
    "##### predictions = model.predict(X)\n",
    "##### Modify and add to the code above as necessary for it to work with the zillow dataset."
   ]
  },
  {
   "cell_type": "code",
   "execution_count": 15,
   "id": "28e226f0",
   "metadata": {},
   "outputs": [],
   "source": [
    "X = train.sqft\n",
    "y = train.tax_value\n",
    "X = pd.DataFrame(X)"
   ]
  },
  {
   "cell_type": "code",
   "execution_count": 16,
   "id": "f6bd68c8",
   "metadata": {},
   "outputs": [
    {
     "data": {
      "text/html": [
       "<style>#sk-container-id-1 {color: black;background-color: white;}#sk-container-id-1 pre{padding: 0;}#sk-container-id-1 div.sk-toggleable {background-color: white;}#sk-container-id-1 label.sk-toggleable__label {cursor: pointer;display: block;width: 100%;margin-bottom: 0;padding: 0.3em;box-sizing: border-box;text-align: center;}#sk-container-id-1 label.sk-toggleable__label-arrow:before {content: \"▸\";float: left;margin-right: 0.25em;color: #696969;}#sk-container-id-1 label.sk-toggleable__label-arrow:hover:before {color: black;}#sk-container-id-1 div.sk-estimator:hover label.sk-toggleable__label-arrow:before {color: black;}#sk-container-id-1 div.sk-toggleable__content {max-height: 0;max-width: 0;overflow: hidden;text-align: left;background-color: #f0f8ff;}#sk-container-id-1 div.sk-toggleable__content pre {margin: 0.2em;color: black;border-radius: 0.25em;background-color: #f0f8ff;}#sk-container-id-1 input.sk-toggleable__control:checked~div.sk-toggleable__content {max-height: 200px;max-width: 100%;overflow: auto;}#sk-container-id-1 input.sk-toggleable__control:checked~label.sk-toggleable__label-arrow:before {content: \"▾\";}#sk-container-id-1 div.sk-estimator input.sk-toggleable__control:checked~label.sk-toggleable__label {background-color: #d4ebff;}#sk-container-id-1 div.sk-label input.sk-toggleable__control:checked~label.sk-toggleable__label {background-color: #d4ebff;}#sk-container-id-1 input.sk-hidden--visually {border: 0;clip: rect(1px 1px 1px 1px);clip: rect(1px, 1px, 1px, 1px);height: 1px;margin: -1px;overflow: hidden;padding: 0;position: absolute;width: 1px;}#sk-container-id-1 div.sk-estimator {font-family: monospace;background-color: #f0f8ff;border: 1px dotted black;border-radius: 0.25em;box-sizing: border-box;margin-bottom: 0.5em;}#sk-container-id-1 div.sk-estimator:hover {background-color: #d4ebff;}#sk-container-id-1 div.sk-parallel-item::after {content: \"\";width: 100%;border-bottom: 1px solid gray;flex-grow: 1;}#sk-container-id-1 div.sk-label:hover label.sk-toggleable__label {background-color: #d4ebff;}#sk-container-id-1 div.sk-serial::before {content: \"\";position: absolute;border-left: 1px solid gray;box-sizing: border-box;top: 0;bottom: 0;left: 50%;z-index: 0;}#sk-container-id-1 div.sk-serial {display: flex;flex-direction: column;align-items: center;background-color: white;padding-right: 0.2em;padding-left: 0.2em;position: relative;}#sk-container-id-1 div.sk-item {position: relative;z-index: 1;}#sk-container-id-1 div.sk-parallel {display: flex;align-items: stretch;justify-content: center;background-color: white;position: relative;}#sk-container-id-1 div.sk-item::before, #sk-container-id-1 div.sk-parallel-item::before {content: \"\";position: absolute;border-left: 1px solid gray;box-sizing: border-box;top: 0;bottom: 0;left: 50%;z-index: -1;}#sk-container-id-1 div.sk-parallel-item {display: flex;flex-direction: column;z-index: 1;position: relative;background-color: white;}#sk-container-id-1 div.sk-parallel-item:first-child::after {align-self: flex-end;width: 50%;}#sk-container-id-1 div.sk-parallel-item:last-child::after {align-self: flex-start;width: 50%;}#sk-container-id-1 div.sk-parallel-item:only-child::after {width: 0;}#sk-container-id-1 div.sk-dashed-wrapped {border: 1px dashed gray;margin: 0 0.4em 0.5em 0.4em;box-sizing: border-box;padding-bottom: 0.4em;background-color: white;}#sk-container-id-1 div.sk-label label {font-family: monospace;font-weight: bold;display: inline-block;line-height: 1.2em;}#sk-container-id-1 div.sk-label-container {text-align: center;}#sk-container-id-1 div.sk-container {/* jupyter's `normalize.less` sets `[hidden] { display: none; }` but bootstrap.min.css set `[hidden] { display: none !important; }` so we also need the `!important` here to be able to override the default hidden behavior on the sphinx rendered scikit-learn.org. See: https://github.com/scikit-learn/scikit-learn/issues/21755 */display: inline-block !important;position: relative;}#sk-container-id-1 div.sk-text-repr-fallback {display: none;}</style><div id=\"sk-container-id-1\" class=\"sk-top-container\"><div class=\"sk-text-repr-fallback\"><pre>LinearRegression()</pre><b>In a Jupyter environment, please rerun this cell to show the HTML representation or trust the notebook. <br />On GitHub, the HTML representation is unable to render, please try loading this page with nbviewer.org.</b></div><div class=\"sk-container\" hidden><div class=\"sk-item\"><div class=\"sk-estimator sk-toggleable\"><input class=\"sk-toggleable__control sk-hidden--visually\" id=\"sk-estimator-id-1\" type=\"checkbox\" checked><label for=\"sk-estimator-id-1\" class=\"sk-toggleable__label sk-toggleable__label-arrow\">LinearRegression</label><div class=\"sk-toggleable__content\"><pre>LinearRegression()</pre></div></div></div></div></div>"
      ],
      "text/plain": [
       "LinearRegression()"
      ]
     },
     "execution_count": 16,
     "metadata": {},
     "output_type": "execute_result"
    }
   ],
   "source": [
    "model = LinearRegression().fit(X,y)\n",
    "model"
   ]
  },
  {
   "cell_type": "code",
   "execution_count": 30,
   "id": "29b371c3",
   "metadata": {},
   "outputs": [
    {
     "data": {
      "text/plain": [
       "array([ 377737.88909607,  719840.69175942,  830812.55495551, ...,\n",
       "        660123.80677154, 1062910.56948329,  445191.37456821])"
      ]
     },
     "execution_count": 30,
     "metadata": {},
     "output_type": "execute_result"
    }
   ],
   "source": [
    "predictions = model.predict(X)\n",
    "predictions"
   ]
  },
  {
   "cell_type": "markdown",
   "id": "35b2c785",
   "metadata": {},
   "source": [
    "### Plot the residuals for the linear regression model that you made."
   ]
  },
  {
   "cell_type": "code",
   "execution_count": 41,
   "id": "8f3a1f22",
   "metadata": {},
   "outputs": [
    {
     "data": {
      "text/html": [
       "<div>\n",
       "<style scoped>\n",
       "    .dataframe tbody tr th:only-of-type {\n",
       "        vertical-align: middle;\n",
       "    }\n",
       "\n",
       "    .dataframe tbody tr th {\n",
       "        vertical-align: top;\n",
       "    }\n",
       "\n",
       "    .dataframe thead th {\n",
       "        text-align: right;\n",
       "    }\n",
       "</style>\n",
       "<table border=\"1\" class=\"dataframe\">\n",
       "  <thead>\n",
       "    <tr style=\"text-align: right;\">\n",
       "      <th></th>\n",
       "      <th>sqft</th>\n",
       "      <th>tax_value</th>\n",
       "    </tr>\n",
       "  </thead>\n",
       "  <tbody>\n",
       "    <tr>\n",
       "      <th>1844941</th>\n",
       "      <td>1520.0</td>\n",
       "      <td>420429.0</td>\n",
       "    </tr>\n",
       "    <tr>\n",
       "      <th>824995</th>\n",
       "      <td>2935.0</td>\n",
       "      <td>391054.0</td>\n",
       "    </tr>\n",
       "    <tr>\n",
       "      <th>1214129</th>\n",
       "      <td>3394.0</td>\n",
       "      <td>1199447.0</td>\n",
       "    </tr>\n",
       "    <tr>\n",
       "      <th>1566096</th>\n",
       "      <td>1048.0</td>\n",
       "      <td>187230.0</td>\n",
       "    </tr>\n",
       "    <tr>\n",
       "      <th>1259406</th>\n",
       "      <td>2843.0</td>\n",
       "      <td>193625.0</td>\n",
       "    </tr>\n",
       "    <tr>\n",
       "      <th>...</th>\n",
       "      <td>...</td>\n",
       "      <td>...</td>\n",
       "    </tr>\n",
       "    <tr>\n",
       "      <th>2036394</th>\n",
       "      <td>2162.0</td>\n",
       "      <td>230635.0</td>\n",
       "    </tr>\n",
       "    <tr>\n",
       "      <th>551645</th>\n",
       "      <td>3054.0</td>\n",
       "      <td>324446.0</td>\n",
       "    </tr>\n",
       "    <tr>\n",
       "      <th>1883454</th>\n",
       "      <td>2688.0</td>\n",
       "      <td>979673.0</td>\n",
       "    </tr>\n",
       "    <tr>\n",
       "      <th>1292898</th>\n",
       "      <td>4354.0</td>\n",
       "      <td>663628.0</td>\n",
       "    </tr>\n",
       "    <tr>\n",
       "      <th>357051</th>\n",
       "      <td>1799.0</td>\n",
       "      <td>334013.0</td>\n",
       "    </tr>\n",
       "  </tbody>\n",
       "</table>\n",
       "<p>1278128 rows × 2 columns</p>\n",
       "</div>"
      ],
      "text/plain": [
       "           sqft  tax_value\n",
       "1844941  1520.0   420429.0\n",
       "824995   2935.0   391054.0\n",
       "1214129  3394.0  1199447.0\n",
       "1566096  1048.0   187230.0\n",
       "1259406  2843.0   193625.0\n",
       "...         ...        ...\n",
       "2036394  2162.0   230635.0\n",
       "551645   3054.0   324446.0\n",
       "1883454  2688.0   979673.0\n",
       "1292898  4354.0   663628.0\n",
       "357051   1799.0   334013.0\n",
       "\n",
       "[1278128 rows x 2 columns]"
      ]
     },
     "execution_count": 41,
     "metadata": {},
     "output_type": "execute_result"
    }
   ],
   "source": [
    "results = train[['sqft', 'tax_value']]\n",
    "results"
   ]
  },
  {
   "cell_type": "code",
   "execution_count": 42,
   "id": "a9de284c",
   "metadata": {},
   "outputs": [
    {
     "name": "stderr",
     "output_type": "stream",
     "text": [
      "/var/folders/jv/wt_gjk6n74bcbzwl91qys7sr0000gn/T/ipykernel_1460/53519491.py:1: SettingWithCopyWarning: \n",
      "A value is trying to be set on a copy of a slice from a DataFrame.\n",
      "Try using .loc[row_indexer,col_indexer] = value instead\n",
      "\n",
      "See the caveats in the documentation: https://pandas.pydata.org/pandas-docs/stable/user_guide/indexing.html#returning-a-view-versus-a-copy\n",
      "  results['predictions'] = predictions.tolist()\n"
     ]
    },
    {
     "data": {
      "text/html": [
       "<div>\n",
       "<style scoped>\n",
       "    .dataframe tbody tr th:only-of-type {\n",
       "        vertical-align: middle;\n",
       "    }\n",
       "\n",
       "    .dataframe tbody tr th {\n",
       "        vertical-align: top;\n",
       "    }\n",
       "\n",
       "    .dataframe thead th {\n",
       "        text-align: right;\n",
       "    }\n",
       "</style>\n",
       "<table border=\"1\" class=\"dataframe\">\n",
       "  <thead>\n",
       "    <tr style=\"text-align: right;\">\n",
       "      <th></th>\n",
       "      <th>sqft</th>\n",
       "      <th>tax_value</th>\n",
       "      <th>predictions</th>\n",
       "    </tr>\n",
       "  </thead>\n",
       "  <tbody>\n",
       "    <tr>\n",
       "      <th>1844941</th>\n",
       "      <td>1520.0</td>\n",
       "      <td>420429.0</td>\n",
       "      <td>3.777379e+05</td>\n",
       "    </tr>\n",
       "    <tr>\n",
       "      <th>824995</th>\n",
       "      <td>2935.0</td>\n",
       "      <td>391054.0</td>\n",
       "      <td>7.198407e+05</td>\n",
       "    </tr>\n",
       "    <tr>\n",
       "      <th>1214129</th>\n",
       "      <td>3394.0</td>\n",
       "      <td>1199447.0</td>\n",
       "      <td>8.308126e+05</td>\n",
       "    </tr>\n",
       "    <tr>\n",
       "      <th>1566096</th>\n",
       "      <td>1048.0</td>\n",
       "      <td>187230.0</td>\n",
       "      <td>2.636230e+05</td>\n",
       "    </tr>\n",
       "    <tr>\n",
       "      <th>1259406</th>\n",
       "      <td>2843.0</td>\n",
       "      <td>193625.0</td>\n",
       "      <td>6.975980e+05</td>\n",
       "    </tr>\n",
       "    <tr>\n",
       "      <th>...</th>\n",
       "      <td>...</td>\n",
       "      <td>...</td>\n",
       "      <td>...</td>\n",
       "    </tr>\n",
       "    <tr>\n",
       "      <th>2036394</th>\n",
       "      <td>2162.0</td>\n",
       "      <td>230635.0</td>\n",
       "      <td>5.329534e+05</td>\n",
       "    </tr>\n",
       "    <tr>\n",
       "      <th>551645</th>\n",
       "      <td>3054.0</td>\n",
       "      <td>324446.0</td>\n",
       "      <td>7.486112e+05</td>\n",
       "    </tr>\n",
       "    <tr>\n",
       "      <th>1883454</th>\n",
       "      <td>2688.0</td>\n",
       "      <td>979673.0</td>\n",
       "      <td>6.601238e+05</td>\n",
       "    </tr>\n",
       "    <tr>\n",
       "      <th>1292898</th>\n",
       "      <td>4354.0</td>\n",
       "      <td>663628.0</td>\n",
       "      <td>1.062911e+06</td>\n",
       "    </tr>\n",
       "    <tr>\n",
       "      <th>357051</th>\n",
       "      <td>1799.0</td>\n",
       "      <td>334013.0</td>\n",
       "      <td>4.451914e+05</td>\n",
       "    </tr>\n",
       "  </tbody>\n",
       "</table>\n",
       "<p>1278128 rows × 3 columns</p>\n",
       "</div>"
      ],
      "text/plain": [
       "           sqft  tax_value   predictions\n",
       "1844941  1520.0   420429.0  3.777379e+05\n",
       "824995   2935.0   391054.0  7.198407e+05\n",
       "1214129  3394.0  1199447.0  8.308126e+05\n",
       "1566096  1048.0   187230.0  2.636230e+05\n",
       "1259406  2843.0   193625.0  6.975980e+05\n",
       "...         ...        ...           ...\n",
       "2036394  2162.0   230635.0  5.329534e+05\n",
       "551645   3054.0   324446.0  7.486112e+05\n",
       "1883454  2688.0   979673.0  6.601238e+05\n",
       "1292898  4354.0   663628.0  1.062911e+06\n",
       "357051   1799.0   334013.0  4.451914e+05\n",
       "\n",
       "[1278128 rows x 3 columns]"
      ]
     },
     "execution_count": 42,
     "metadata": {},
     "output_type": "execute_result"
    }
   ],
   "source": [
    "results['predictions'] = predictions.tolist()\n",
    "results"
   ]
  },
  {
   "cell_type": "markdown",
   "id": "055a9416",
   "metadata": {},
   "source": [
    "### Calculate the sum of squared errors, explained sum of squares, total sum of squares, mean squared error, and root mean squared error for your model."
   ]
  },
  {
   "cell_type": "code",
   "execution_count": 43,
   "id": "7afe3631",
   "metadata": {},
   "outputs": [
    {
     "name": "stderr",
     "output_type": "stream",
     "text": [
      "/var/folders/jv/wt_gjk6n74bcbzwl91qys7sr0000gn/T/ipykernel_1460/1365837609.py:1: SettingWithCopyWarning: \n",
      "A value is trying to be set on a copy of a slice from a DataFrame.\n",
      "Try using .loc[row_indexer,col_indexer] = value instead\n",
      "\n",
      "See the caveats in the documentation: https://pandas.pydata.org/pandas-docs/stable/user_guide/indexing.html#returning-a-view-versus-a-copy\n",
      "  results['yhat_baseline'] = results.tax_value - results.tax_value.mean()\n",
      "/var/folders/jv/wt_gjk6n74bcbzwl91qys7sr0000gn/T/ipykernel_1460/1365837609.py:2: SettingWithCopyWarning: \n",
      "A value is trying to be set on a copy of a slice from a DataFrame.\n",
      "Try using .loc[row_indexer,col_indexer] = value instead\n",
      "\n",
      "See the caveats in the documentation: https://pandas.pydata.org/pandas-docs/stable/user_guide/indexing.html#returning-a-view-versus-a-copy\n",
      "  results['yhat_predictions'] = results.tax_value - results.predictions\n"
     ]
    }
   ],
   "source": [
    "results['yhat_baseline'] = results.tax_value - results.tax_value.mean()\n",
    "results['yhat_predictions'] = results.tax_value - results.predictions"
   ]
  },
  {
   "cell_type": "code",
   "execution_count": 57,
   "id": "cc9cffc1",
   "metadata": {},
   "outputs": [
    {
     "name": "stderr",
     "output_type": "stream",
     "text": [
      "/var/folders/jv/wt_gjk6n74bcbzwl91qys7sr0000gn/T/ipykernel_1460/3442539286.py:1: SettingWithCopyWarning: \n",
      "A value is trying to be set on a copy of a slice from a DataFrame.\n",
      "Try using .loc[row_indexer,col_indexer] = value instead\n",
      "\n",
      "See the caveats in the documentation: https://pandas.pydata.org/pandas-docs/stable/user_guide/indexing.html#returning-a-view-versus-a-copy\n",
      "  results['tax_value_mean'] = results.tax_value.mean()\n"
     ]
    }
   ],
   "source": [
    "results['tax_value_mean'] = results.tax_value.mean()"
   ]
  },
  {
   "cell_type": "code",
   "execution_count": 58,
   "id": "3840d1c6",
   "metadata": {},
   "outputs": [
    {
     "data": {
      "text/html": [
       "<div>\n",
       "<style scoped>\n",
       "    .dataframe tbody tr th:only-of-type {\n",
       "        vertical-align: middle;\n",
       "    }\n",
       "\n",
       "    .dataframe tbody tr th {\n",
       "        vertical-align: top;\n",
       "    }\n",
       "\n",
       "    .dataframe thead th {\n",
       "        text-align: right;\n",
       "    }\n",
       "</style>\n",
       "<table border=\"1\" class=\"dataframe\">\n",
       "  <thead>\n",
       "    <tr style=\"text-align: right;\">\n",
       "      <th></th>\n",
       "      <th>sqft</th>\n",
       "      <th>tax_value</th>\n",
       "      <th>predictions</th>\n",
       "      <th>yhat_baseline</th>\n",
       "      <th>yhat_predictions</th>\n",
       "      <th>tax_value_mean</th>\n",
       "    </tr>\n",
       "  </thead>\n",
       "  <tbody>\n",
       "    <tr>\n",
       "      <th>1844941</th>\n",
       "      <td>1520.0</td>\n",
       "      <td>420429.0</td>\n",
       "      <td>3.777379e+05</td>\n",
       "      <td>-40574.061417</td>\n",
       "      <td>42691.110904</td>\n",
       "      <td>461003.061417</td>\n",
       "    </tr>\n",
       "    <tr>\n",
       "      <th>824995</th>\n",
       "      <td>2935.0</td>\n",
       "      <td>391054.0</td>\n",
       "      <td>7.198407e+05</td>\n",
       "      <td>-69949.061417</td>\n",
       "      <td>-328786.691759</td>\n",
       "      <td>461003.061417</td>\n",
       "    </tr>\n",
       "    <tr>\n",
       "      <th>1214129</th>\n",
       "      <td>3394.0</td>\n",
       "      <td>1199447.0</td>\n",
       "      <td>8.308126e+05</td>\n",
       "      <td>738443.938583</td>\n",
       "      <td>368634.445044</td>\n",
       "      <td>461003.061417</td>\n",
       "    </tr>\n",
       "    <tr>\n",
       "      <th>1566096</th>\n",
       "      <td>1048.0</td>\n",
       "      <td>187230.0</td>\n",
       "      <td>2.636230e+05</td>\n",
       "      <td>-273773.061417</td>\n",
       "      <td>-76393.031953</td>\n",
       "      <td>461003.061417</td>\n",
       "    </tr>\n",
       "    <tr>\n",
       "      <th>1259406</th>\n",
       "      <td>2843.0</td>\n",
       "      <td>193625.0</td>\n",
       "      <td>6.975980e+05</td>\n",
       "      <td>-267378.061417</td>\n",
       "      <td>-503972.965367</td>\n",
       "      <td>461003.061417</td>\n",
       "    </tr>\n",
       "    <tr>\n",
       "      <th>...</th>\n",
       "      <td>...</td>\n",
       "      <td>...</td>\n",
       "      <td>...</td>\n",
       "      <td>...</td>\n",
       "      <td>...</td>\n",
       "      <td>...</td>\n",
       "    </tr>\n",
       "    <tr>\n",
       "      <th>2036394</th>\n",
       "      <td>2162.0</td>\n",
       "      <td>230635.0</td>\n",
       "      <td>5.329534e+05</td>\n",
       "      <td>-230368.061417</td>\n",
       "      <td>-302318.436312</td>\n",
       "      <td>461003.061417</td>\n",
       "    </tr>\n",
       "    <tr>\n",
       "      <th>551645</th>\n",
       "      <td>3054.0</td>\n",
       "      <td>324446.0</td>\n",
       "      <td>7.486112e+05</td>\n",
       "      <td>-136557.061417</td>\n",
       "      <td>-424165.174810</td>\n",
       "      <td>461003.061417</td>\n",
       "    </tr>\n",
       "    <tr>\n",
       "      <th>1883454</th>\n",
       "      <td>2688.0</td>\n",
       "      <td>979673.0</td>\n",
       "      <td>6.601238e+05</td>\n",
       "      <td>518669.938583</td>\n",
       "      <td>319549.193228</td>\n",
       "      <td>461003.061417</td>\n",
       "    </tr>\n",
       "    <tr>\n",
       "      <th>1292898</th>\n",
       "      <td>4354.0</td>\n",
       "      <td>663628.0</td>\n",
       "      <td>1.062911e+06</td>\n",
       "      <td>202624.938583</td>\n",
       "      <td>-399282.569483</td>\n",
       "      <td>461003.061417</td>\n",
       "    </tr>\n",
       "    <tr>\n",
       "      <th>357051</th>\n",
       "      <td>1799.0</td>\n",
       "      <td>334013.0</td>\n",
       "      <td>4.451914e+05</td>\n",
       "      <td>-126990.061417</td>\n",
       "      <td>-111178.374568</td>\n",
       "      <td>461003.061417</td>\n",
       "    </tr>\n",
       "  </tbody>\n",
       "</table>\n",
       "<p>1278128 rows × 6 columns</p>\n",
       "</div>"
      ],
      "text/plain": [
       "           sqft  tax_value   predictions  yhat_baseline  yhat_predictions  \\\n",
       "1844941  1520.0   420429.0  3.777379e+05  -40574.061417      42691.110904   \n",
       "824995   2935.0   391054.0  7.198407e+05  -69949.061417    -328786.691759   \n",
       "1214129  3394.0  1199447.0  8.308126e+05  738443.938583     368634.445044   \n",
       "1566096  1048.0   187230.0  2.636230e+05 -273773.061417     -76393.031953   \n",
       "1259406  2843.0   193625.0  6.975980e+05 -267378.061417    -503972.965367   \n",
       "...         ...        ...           ...            ...               ...   \n",
       "2036394  2162.0   230635.0  5.329534e+05 -230368.061417    -302318.436312   \n",
       "551645   3054.0   324446.0  7.486112e+05 -136557.061417    -424165.174810   \n",
       "1883454  2688.0   979673.0  6.601238e+05  518669.938583     319549.193228   \n",
       "1292898  4354.0   663628.0  1.062911e+06  202624.938583    -399282.569483   \n",
       "357051   1799.0   334013.0  4.451914e+05 -126990.061417    -111178.374568   \n",
       "\n",
       "         tax_value_mean  \n",
       "1844941   461003.061417  \n",
       "824995    461003.061417  \n",
       "1214129   461003.061417  \n",
       "1566096   461003.061417  \n",
       "1259406   461003.061417  \n",
       "...                 ...  \n",
       "2036394   461003.061417  \n",
       "551645    461003.061417  \n",
       "1883454   461003.061417  \n",
       "1292898   461003.061417  \n",
       "357051    461003.061417  \n",
       "\n",
       "[1278128 rows x 6 columns]"
      ]
     },
     "execution_count": 58,
     "metadata": {},
     "output_type": "execute_result"
    }
   ],
   "source": [
    "results"
   ]
  },
  {
   "cell_type": "markdown",
   "id": "b0a7f40f",
   "metadata": {},
   "source": [
    "### Calculate the sum of squared errors, mean squared error, and root mean squared error for the baseline model (i.e. a model that always predicts the average taxvaluedollarcnt amount)."
   ]
  },
  {
   "cell_type": "code",
   "execution_count": 59,
   "id": "d135cd9b",
   "metadata": {},
   "outputs": [
    {
     "data": {
      "text/plain": [
       "(449474804104.8629, 5.744863324209402e+17, 670428.8210577338)"
      ]
     },
     "execution_count": 59,
     "metadata": {},
     "output_type": "execute_result"
    }
   ],
   "source": [
    "MSE2_baseline = mean_squared_error(results.tax_value, results.tax_value_mean)\n",
    "SSE2_baseline = MSE2_baseline * len(results)\n",
    "RMSE2_baseline = sqrt(MSE2_baseline)\n",
    "\n",
    "MSE2_baseline, SSE2_baseline, RMSE2_baseline"
   ]
  },
  {
   "cell_type": "markdown",
   "id": "1da0bfb2",
   "metadata": {},
   "source": [
    "### Write python code that compares the sum of squared errors for your model against the sum of squared errors for the baseline model and outputs whether or not your model performs better than the baseline model."
   ]
  },
  {
   "cell_type": "code",
   "execution_count": 60,
   "id": "f56e4a39",
   "metadata": {},
   "outputs": [
    {
     "data": {
      "text/plain": [
       "(308716281137.0448, 3.9457892297712877e+17, 555622.426776534)"
      ]
     },
     "execution_count": 60,
     "metadata": {},
     "output_type": "execute_result"
    }
   ],
   "source": [
    "MSE2 = mean_squared_error(results.tax_value, results.yhat_predictions)\n",
    "SSE2 = MSE2 * len(results)\n",
    "RMSE2 = sqrt(MSE2)\n",
    "\n",
    "MSE2, SSE2, RMSE2"
   ]
  },
  {
   "cell_type": "markdown",
   "id": "f4c8fa1d",
   "metadata": {},
   "source": [
    "### What is the amount of variance explained in your model?"
   ]
  },
  {
   "cell_type": "code",
   "execution_count": 61,
   "id": "a8ba6a62",
   "metadata": {},
   "outputs": [],
   "source": [
    "TSS = SSE2_baseline\n",
    "ESS = TSS - SSE2\n",
    "R2 = ESS / TSS"
   ]
  },
  {
   "cell_type": "code",
   "execution_count": 62,
   "id": "e11f43d2",
   "metadata": {},
   "outputs": [
    {
     "data": {
      "text/plain": [
       "0.3131622099444289"
      ]
     },
     "execution_count": 62,
     "metadata": {},
     "output_type": "execute_result"
    }
   ],
   "source": [
    "R2"
   ]
  },
  {
   "cell_type": "markdown",
   "id": "44f7f752",
   "metadata": {},
   "source": []
  },
  {
   "cell_type": "markdown",
   "id": "25814200",
   "metadata": {},
   "source": [
    "### Is your model better than the baseline model?"
   ]
  },
  {
   "cell_type": "markdown",
   "id": "db280807",
   "metadata": {},
   "source": [
    "YES"
   ]
  },
  {
   "cell_type": "markdown",
   "id": "2c2126e0",
   "metadata": {},
   "source": [
    "### Create a file named evaluate.py that contains the following functions.\n",
    "\n",
    "##### plot_residuals(y, yhat): creates a residual plot\n",
    "##### regression_errors(y, yhat): returns the following values:\n",
    "##### sum of squared errors (SSE)\n",
    "##### explained sum of squares (ESS)\n",
    "##### total sum of squares (TSS)\n",
    "##### mean squared error (MSE)\n",
    "##### root mean squared error (RMSE)\n",
    "##### baseline_mean_errors(y): computes the SSE, MSE, and RMSE for the baseline model\n",
    "##### better_than_baseline(y, yhat): returns true if your model performs better than the baseline, otherwise false"
   ]
  },
  {
   "cell_type": "code",
   "execution_count": null,
   "id": "9a68a4db",
   "metadata": {},
   "outputs": [],
   "source": []
  }
 ],
 "metadata": {
  "kernelspec": {
   "display_name": "Python 3 (ipykernel)",
   "language": "python",
   "name": "python3"
  },
  "language_info": {
   "codemirror_mode": {
    "name": "ipython",
    "version": 3
   },
   "file_extension": ".py",
   "mimetype": "text/x-python",
   "name": "python",
   "nbconvert_exporter": "python",
   "pygments_lexer": "ipython3",
   "version": "3.10.9"
  }
 },
 "nbformat": 4,
 "nbformat_minor": 5
}
