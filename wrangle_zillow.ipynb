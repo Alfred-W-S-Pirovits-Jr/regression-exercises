{
 "cells": [
  {
   "cell_type": "code",
   "execution_count": 2,
   "id": "d934f9db",
   "metadata": {},
   "outputs": [],
   "source": [
    "from env import get_db_url\n",
    "import numpy as np\n",
    "import pandas as pd\n",
    "import os\n",
    "import acquire\n",
    "\n",
    "\n",
    "import matplotlib.pyplot as plt\n",
    "from pydataset import data\n",
    "import seaborn as sns\n",
    "import scipy.stats as stats\n",
    "from sklearn.model_selection import train_test_split\n",
    "from sklearn.impute import SimpleImputer"
   ]
  },
  {
   "cell_type": "code",
   "execution_count": 3,
   "id": "43741e72",
   "metadata": {},
   "outputs": [],
   "source": [
    "# query = '''\n",
    "# SELECT bedroomcnt, bathroomcnt, calculatedfinishedsquarefeet, taxvaluedollarcnt, yearbuilt, taxamount, fips\n",
    "# FROM properties_2016\n",
    "# UNION\n",
    "# SELECT bedroomcnt, bathroomcnt, calculatedfinishedsquarefeet, taxvaluedollarcnt, yearbuilt, taxamount, fips\n",
    "# FROM properties_2017;\n",
    "# '''\n",
    "\n",
    "\n",
    "# def get_zillow_data():\n",
    "#     filename = 'zillow.csv'\n",
    "    \n",
    "#     if os.path.isfile(filename):\n",
    "#         return pd.read_csv(filename)\n",
    "#     else:\n",
    "#         # read the SQL query into a dataframe\n",
    "#         zillow_db = pd.read_sql('''\n",
    "#                                 SELECT bedroomcnt, bathroomcnt, calculatedfinishedsquarefeet, taxvaluedollarcnt, yearbuilt, taxamount, fips\n",
    "#                                 FROM properties_2016\n",
    "#                                 WHERE propertylandusetypeid = 261 -- Single Family Residence\n",
    "#                                 UNION\n",
    "#                                 SELECT bedroomcnt, bathroomcnt, calculatedfinishedsquarefeet, taxvaluedollarcnt, yearbuilt, taxamount, fips\n",
    "#                                 FROM properties_2017\n",
    "#                                 WHERE propertylandusetypeid = 261 -- Single Family Residence;\n",
    "#                                ''', get_db_url('zillow'))\n",
    "        \n",
    "#         # Write that dataframe to disk for later.  Called \"caching\" the data for later.\n",
    "#         zillow_db.to_csv(filename)\n",
    "        \n",
    "#         return zillow_db\n",
    "    \n",
    "# zillow = pd.read_sql('''\n",
    "#                                 SELECT bedroomcnt, bathroomcnt, calculatedfinishedsquarefeet, taxvaluedollarcnt, yearbuilt, taxamount, fips\n",
    "#                                 FROM properties_2016\n",
    "#                                 UNION\n",
    "#                                 SELECT bedroomcnt, bathroomcnt, calculatedfinishedsquarefeet, taxvaluedollarcnt, yearbuilt, taxamount, fips\n",
    "#                                 FROM properties_2017;\n",
    "#                                 ''', get_db_url('zillow'))"
   ]
  },
  {
   "cell_type": "code",
   "execution_count": 4,
   "id": "9467fa77",
   "metadata": {},
   "outputs": [],
   "source": [
    "zillow = acquire.get_zillow_data()"
   ]
  },
  {
   "cell_type": "code",
   "execution_count": 5,
   "id": "6a22db61",
   "metadata": {},
   "outputs": [
    {
     "data": {
      "text/html": [
       "<div>\n",
       "<style scoped>\n",
       "    .dataframe tbody tr th:only-of-type {\n",
       "        vertical-align: middle;\n",
       "    }\n",
       "\n",
       "    .dataframe tbody tr th {\n",
       "        vertical-align: top;\n",
       "    }\n",
       "\n",
       "    .dataframe thead th {\n",
       "        text-align: right;\n",
       "    }\n",
       "</style>\n",
       "<table border=\"1\" class=\"dataframe\">\n",
       "  <thead>\n",
       "    <tr style=\"text-align: right;\">\n",
       "      <th></th>\n",
       "      <th>bedroomcnt</th>\n",
       "      <th>bathroomcnt</th>\n",
       "      <th>calculatedfinishedsquarefeet</th>\n",
       "      <th>taxvaluedollarcnt</th>\n",
       "      <th>yearbuilt</th>\n",
       "      <th>taxamount</th>\n",
       "      <th>fips</th>\n",
       "    </tr>\n",
       "  </thead>\n",
       "  <tbody>\n",
       "    <tr>\n",
       "      <th>0</th>\n",
       "      <td>0.0</td>\n",
       "      <td>0.0</td>\n",
       "      <td>NaN</td>\n",
       "      <td>27516.0</td>\n",
       "      <td>NaN</td>\n",
       "      <td>NaN</td>\n",
       "      <td>6037.0</td>\n",
       "    </tr>\n",
       "    <tr>\n",
       "      <th>1</th>\n",
       "      <td>0.0</td>\n",
       "      <td>0.0</td>\n",
       "      <td>NaN</td>\n",
       "      <td>10.0</td>\n",
       "      <td>NaN</td>\n",
       "      <td>NaN</td>\n",
       "      <td>6037.0</td>\n",
       "    </tr>\n",
       "    <tr>\n",
       "      <th>2</th>\n",
       "      <td>0.0</td>\n",
       "      <td>0.0</td>\n",
       "      <td>NaN</td>\n",
       "      <td>10.0</td>\n",
       "      <td>NaN</td>\n",
       "      <td>NaN</td>\n",
       "      <td>6037.0</td>\n",
       "    </tr>\n",
       "    <tr>\n",
       "      <th>3</th>\n",
       "      <td>0.0</td>\n",
       "      <td>0.0</td>\n",
       "      <td>NaN</td>\n",
       "      <td>2108.0</td>\n",
       "      <td>NaN</td>\n",
       "      <td>174.21</td>\n",
       "      <td>6037.0</td>\n",
       "    </tr>\n",
       "    <tr>\n",
       "      <th>4</th>\n",
       "      <td>4.0</td>\n",
       "      <td>2.0</td>\n",
       "      <td>3633.0</td>\n",
       "      <td>296425.0</td>\n",
       "      <td>2005.0</td>\n",
       "      <td>6941.39</td>\n",
       "      <td>6037.0</td>\n",
       "    </tr>\n",
       "  </tbody>\n",
       "</table>\n",
       "</div>"
      ],
      "text/plain": [
       "   bedroomcnt  bathroomcnt  calculatedfinishedsquarefeet  taxvaluedollarcnt  \\\n",
       "0         0.0          0.0                           NaN            27516.0   \n",
       "1         0.0          0.0                           NaN               10.0   \n",
       "2         0.0          0.0                           NaN               10.0   \n",
       "3         0.0          0.0                           NaN             2108.0   \n",
       "4         4.0          2.0                        3633.0           296425.0   \n",
       "\n",
       "   yearbuilt  taxamount    fips  \n",
       "0        NaN        NaN  6037.0  \n",
       "1        NaN        NaN  6037.0  \n",
       "2        NaN        NaN  6037.0  \n",
       "3        NaN     174.21  6037.0  \n",
       "4     2005.0    6941.39  6037.0  "
      ]
     },
     "execution_count": 5,
     "metadata": {},
     "output_type": "execute_result"
    }
   ],
   "source": [
    "zillow.head()"
   ]
  },
  {
   "cell_type": "code",
   "execution_count": 6,
   "id": "d2e1de32",
   "metadata": {},
   "outputs": [
    {
     "data": {
      "text/plain": [
       "(2152863, 7)"
      ]
     },
     "execution_count": 6,
     "metadata": {},
     "output_type": "execute_result"
    }
   ],
   "source": [
    "zillow.shape"
   ]
  },
  {
   "cell_type": "code",
   "execution_count": 7,
   "id": "33703e38",
   "metadata": {},
   "outputs": [
    {
     "data": {
      "text/html": [
       "<div>\n",
       "<style scoped>\n",
       "    .dataframe tbody tr th:only-of-type {\n",
       "        vertical-align: middle;\n",
       "    }\n",
       "\n",
       "    .dataframe tbody tr th {\n",
       "        vertical-align: top;\n",
       "    }\n",
       "\n",
       "    .dataframe thead th {\n",
       "        text-align: right;\n",
       "    }\n",
       "</style>\n",
       "<table border=\"1\" class=\"dataframe\">\n",
       "  <thead>\n",
       "    <tr style=\"text-align: right;\">\n",
       "      <th></th>\n",
       "      <th>count</th>\n",
       "      <th>mean</th>\n",
       "      <th>std</th>\n",
       "      <th>min</th>\n",
       "      <th>25%</th>\n",
       "      <th>50%</th>\n",
       "      <th>75%</th>\n",
       "      <th>max</th>\n",
       "    </tr>\n",
       "  </thead>\n",
       "  <tbody>\n",
       "    <tr>\n",
       "      <th>bedroomcnt</th>\n",
       "      <td>2152852.0</td>\n",
       "      <td>3.287196</td>\n",
       "      <td>0.954754</td>\n",
       "      <td>0.00</td>\n",
       "      <td>3.00</td>\n",
       "      <td>3.00</td>\n",
       "      <td>4.00</td>\n",
       "      <td>25.00</td>\n",
       "    </tr>\n",
       "    <tr>\n",
       "      <th>bathroomcnt</th>\n",
       "      <td>2152852.0</td>\n",
       "      <td>2.230688</td>\n",
       "      <td>0.999280</td>\n",
       "      <td>0.00</td>\n",
       "      <td>2.00</td>\n",
       "      <td>2.00</td>\n",
       "      <td>3.00</td>\n",
       "      <td>32.00</td>\n",
       "    </tr>\n",
       "    <tr>\n",
       "      <th>calculatedfinishedsquarefeet</th>\n",
       "      <td>2144379.0</td>\n",
       "      <td>1862.855178</td>\n",
       "      <td>1222.125124</td>\n",
       "      <td>1.00</td>\n",
       "      <td>1257.00</td>\n",
       "      <td>1623.00</td>\n",
       "      <td>2208.00</td>\n",
       "      <td>952576.00</td>\n",
       "    </tr>\n",
       "    <tr>\n",
       "      <th>taxvaluedollarcnt</th>\n",
       "      <td>2152370.0</td>\n",
       "      <td>461896.237963</td>\n",
       "      <td>699676.049600</td>\n",
       "      <td>1.00</td>\n",
       "      <td>188170.25</td>\n",
       "      <td>327671.00</td>\n",
       "      <td>534527.00</td>\n",
       "      <td>98428909.00</td>\n",
       "    </tr>\n",
       "    <tr>\n",
       "      <th>yearbuilt</th>\n",
       "      <td>2143526.0</td>\n",
       "      <td>1960.949681</td>\n",
       "      <td>22.162196</td>\n",
       "      <td>1801.00</td>\n",
       "      <td>1949.00</td>\n",
       "      <td>1958.00</td>\n",
       "      <td>1976.00</td>\n",
       "      <td>2016.00</td>\n",
       "    </tr>\n",
       "    <tr>\n",
       "      <th>taxamount</th>\n",
       "      <td>2148421.0</td>\n",
       "      <td>5634.865978</td>\n",
       "      <td>8178.910249</td>\n",
       "      <td>1.85</td>\n",
       "      <td>2534.98</td>\n",
       "      <td>4108.95</td>\n",
       "      <td>6414.32</td>\n",
       "      <td>1337755.86</td>\n",
       "    </tr>\n",
       "    <tr>\n",
       "      <th>fips</th>\n",
       "      <td>2152863.0</td>\n",
       "      <td>6048.377335</td>\n",
       "      <td>20.433292</td>\n",
       "      <td>6037.00</td>\n",
       "      <td>6037.00</td>\n",
       "      <td>6037.00</td>\n",
       "      <td>6059.00</td>\n",
       "      <td>6111.00</td>\n",
       "    </tr>\n",
       "  </tbody>\n",
       "</table>\n",
       "</div>"
      ],
      "text/plain": [
       "                                  count           mean            std  \\\n",
       "bedroomcnt                    2152852.0       3.287196       0.954754   \n",
       "bathroomcnt                   2152852.0       2.230688       0.999280   \n",
       "calculatedfinishedsquarefeet  2144379.0    1862.855178    1222.125124   \n",
       "taxvaluedollarcnt             2152370.0  461896.237963  699676.049600   \n",
       "yearbuilt                     2143526.0    1960.949681      22.162196   \n",
       "taxamount                     2148421.0    5634.865978    8178.910249   \n",
       "fips                          2152863.0    6048.377335      20.433292   \n",
       "\n",
       "                                  min        25%        50%        75%  \\\n",
       "bedroomcnt                       0.00       3.00       3.00       4.00   \n",
       "bathroomcnt                      0.00       2.00       2.00       3.00   \n",
       "calculatedfinishedsquarefeet     1.00    1257.00    1623.00    2208.00   \n",
       "taxvaluedollarcnt                1.00  188170.25  327671.00  534527.00   \n",
       "yearbuilt                     1801.00    1949.00    1958.00    1976.00   \n",
       "taxamount                        1.85    2534.98    4108.95    6414.32   \n",
       "fips                          6037.00    6037.00    6037.00    6059.00   \n",
       "\n",
       "                                      max  \n",
       "bedroomcnt                          25.00  \n",
       "bathroomcnt                         32.00  \n",
       "calculatedfinishedsquarefeet    952576.00  \n",
       "taxvaluedollarcnt             98428909.00  \n",
       "yearbuilt                         2016.00  \n",
       "taxamount                      1337755.86  \n",
       "fips                              6111.00  "
      ]
     },
     "execution_count": 7,
     "metadata": {},
     "output_type": "execute_result"
    }
   ],
   "source": [
    "zillow.describe().T"
   ]
  },
  {
   "cell_type": "code",
   "execution_count": 8,
   "id": "ac0832bd",
   "metadata": {},
   "outputs": [
    {
     "name": "stdout",
     "output_type": "stream",
     "text": [
      "<class 'pandas.core.frame.DataFrame'>\n",
      "Int64Index: 2152863 entries, 0 to 2152862\n",
      "Data columns (total 7 columns):\n",
      " #   Column                        Dtype  \n",
      "---  ------                        -----  \n",
      " 0   bedroomcnt                    float64\n",
      " 1   bathroomcnt                   float64\n",
      " 2   calculatedfinishedsquarefeet  float64\n",
      " 3   taxvaluedollarcnt             float64\n",
      " 4   yearbuilt                     float64\n",
      " 5   taxamount                     float64\n",
      " 6   fips                          float64\n",
      "dtypes: float64(7)\n",
      "memory usage: 131.4 MB\n"
     ]
    }
   ],
   "source": [
    "zillow.info()"
   ]
  },
  {
   "cell_type": "code",
   "execution_count": 9,
   "id": "8fdcdbf6",
   "metadata": {},
   "outputs": [
    {
     "data": {
      "text/plain": [
       "bedroomcnt                        11\n",
       "bathroomcnt                       11\n",
       "calculatedfinishedsquarefeet    8484\n",
       "taxvaluedollarcnt                493\n",
       "yearbuilt                       9337\n",
       "taxamount                       4442\n",
       "fips                               0\n",
       "dtype: int64"
      ]
     },
     "execution_count": 9,
     "metadata": {},
     "output_type": "execute_result"
    }
   ],
   "source": [
    "zillow.isnull().sum()"
   ]
  },
  {
   "cell_type": "code",
   "execution_count": 10,
   "id": "499c69d0",
   "metadata": {},
   "outputs": [
    {
     "data": {
      "text/plain": [
       "bedroomcnt                       True\n",
       "bathroomcnt                      True\n",
       "calculatedfinishedsquarefeet     True\n",
       "taxvaluedollarcnt                True\n",
       "yearbuilt                        True\n",
       "taxamount                        True\n",
       "fips                            False\n",
       "dtype: bool"
      ]
     },
     "execution_count": 10,
     "metadata": {},
     "output_type": "execute_result"
    }
   ],
   "source": [
    "zillow.isnull().any()"
   ]
  },
  {
   "cell_type": "code",
   "execution_count": 11,
   "id": "2674db9c",
   "metadata": {},
   "outputs": [
    {
     "data": {
      "text/plain": [
       "Index(['bedroomcnt', 'bathroomcnt', 'calculatedfinishedsquarefeet',\n",
       "       'taxvaluedollarcnt', 'yearbuilt', 'taxamount'],\n",
       "      dtype='object')"
      ]
     },
     "execution_count": 11,
     "metadata": {},
     "output_type": "execute_result"
    }
   ],
   "source": [
    "zillow.columns[zillow.isnull().any()]"
   ]
  },
  {
   "cell_type": "code",
   "execution_count": 12,
   "id": "1b2116fc",
   "metadata": {},
   "outputs": [
    {
     "data": {
      "text/plain": [
       "25.0         1\n",
       "16.0         2\n",
       "18.0         3\n",
       "15.0         6\n",
       "14.0         7\n",
       "NaN         11\n",
       "12.0        12\n",
       "13.0        16\n",
       "11.0        34\n",
       "10.0       121\n",
       "9.0        291\n",
       "8.0       1107\n",
       "7.0       4807\n",
       "0.0      13187\n",
       "1.0      23166\n",
       "6.0      25166\n",
       "5.0     150866\n",
       "2.0     335473\n",
       "4.0     634289\n",
       "3.0     964298\n",
       "Name: bedroomcnt, dtype: int64"
      ]
     },
     "execution_count": 12,
     "metadata": {},
     "output_type": "execute_result"
    }
   ],
   "source": [
    "zillow.bedroomcnt.value_counts(dropna=False, ascending=True)"
   ]
  },
  {
   "cell_type": "code",
   "execution_count": 13,
   "id": "cdb15303",
   "metadata": {},
   "outputs": [
    {
     "data": {
      "text/plain": [
       "19.00         1\n",
       "32.00         1\n",
       "19.50         1\n",
       "14.50         1\n",
       "12.50         3\n",
       "11.50         3\n",
       "1.75          3\n",
       "17.00         4\n",
       "20.00         6\n",
       "18.00         8\n",
       "NaN          11\n",
       "16.00        12\n",
       "10.50        14\n",
       "0.50         16\n",
       "15.00        17\n",
       "14.00        25\n",
       "13.00        39\n",
       "9.50         50\n",
       "12.00        73\n",
       "8.50        110\n",
       "11.00       146\n",
       "10.00       325\n",
       "7.50        384\n",
       "9.00        713\n",
       "6.50       1333\n",
       "8.00       1692\n",
       "7.00       4394\n",
       "5.50       6217\n",
       "6.00      10747\n",
       "0.00      13027\n",
       "4.50      19506\n",
       "5.00      28362\n",
       "3.50      28518\n",
       "1.50      31211\n",
       "4.00      82155\n",
       "2.50     142981\n",
       "1.00     414324\n",
       "3.00     422841\n",
       "2.00     943589\n",
       "Name: bathroomcnt, dtype: int64"
      ]
     },
     "execution_count": 13,
     "metadata": {},
     "output_type": "execute_result"
    }
   ],
   "source": [
    "zillow.bathroomcnt.value_counts(dropna=False, ascending=True)"
   ]
  },
  {
   "cell_type": "code",
   "execution_count": 14,
   "id": "791a5d7b",
   "metadata": {
    "scrolled": false
   },
   "outputs": [
    {
     "data": {
      "text/plain": [
       "24920.0       1\n",
       "10127.0       1\n",
       "35046.0       1\n",
       "8803.0        1\n",
       "16134.0       1\n",
       "           ... \n",
       "1400.0     3833\n",
       "1120.0     4362\n",
       "1080.0     4389\n",
       "1200.0     5195\n",
       "NaN        8484\n",
       "Name: calculatedfinishedsquarefeet, Length: 10581, dtype: int64"
      ]
     },
     "execution_count": 14,
     "metadata": {},
     "output_type": "execute_result"
    }
   ],
   "source": [
    "zillow.calculatedfinishedsquarefeet.value_counts(dropna=False, ascending=True)"
   ]
  },
  {
   "cell_type": "code",
   "execution_count": 15,
   "id": "1162e910",
   "metadata": {
    "scrolled": false
   },
   "outputs": [
    {
     "data": {
      "text/plain": [
       "27516.0        1\n",
       "167020.0       1\n",
       "145983.0       1\n",
       "81898.0        1\n",
       "1503486.0      1\n",
       "            ... \n",
       "440000.0     685\n",
       "430000.0     690\n",
       "400000.0     729\n",
       "500000.0     779\n",
       "450000.0     821\n",
       "Name: taxvaluedollarcnt, Length: 592270, dtype: int64"
      ]
     },
     "execution_count": 15,
     "metadata": {},
     "output_type": "execute_result"
    }
   ],
   "source": [
    "zillow.taxvaluedollarcnt.value_counts(dropna=False, ascending=True)"
   ]
  },
  {
   "cell_type": "code",
   "execution_count": 16,
   "id": "b94eadc4",
   "metadata": {
    "scrolled": true
   },
   "outputs": [
    {
     "data": {
      "text/plain": [
       "1874.0        1\n",
       "1877.0        1\n",
       "1862.0        1\n",
       "1840.0        1\n",
       "1807.0        1\n",
       "1823.0        1\n",
       "1855.0        1\n",
       "1879.0        1\n",
       "1833.0        1\n",
       "1865.0        2\n",
       "1876.0        2\n",
       "1812.0        2\n",
       "1878.0        2\n",
       "1870.0        3\n",
       "1801.0        3\n",
       "1881.0        4\n",
       "1882.0        6\n",
       "1883.0        8\n",
       "1875.0       10\n",
       "1884.0       14\n",
       "1889.0       30\n",
       "1891.0       31\n",
       "1886.0       33\n",
       "1880.0       39\n",
       "1892.0       65\n",
       "1887.0       78\n",
       "1888.0       88\n",
       "1893.0       91\n",
       "2016.0       98\n",
       "1894.0      103\n",
       "1896.0      128\n",
       "1897.0      135\n",
       "1899.0      139\n",
       "1885.0      172\n",
       "1898.0      256\n",
       "1890.0      539\n",
       "1895.0      569\n",
       "1900.0      677\n",
       "1902.0      682\n",
       "1904.0     1038\n",
       "1903.0     1154\n",
       "1901.0     1238\n",
       "1917.0     1583\n",
       "1918.0     1792\n",
       "1916.0     2129\n",
       "1906.0     2176\n",
       "1934.0     2399\n",
       "1907.0     2486\n",
       "1933.0     2725\n",
       "2011.0     2753\n",
       "2010.0     2787\n",
       "1909.0     2847\n",
       "1919.0     2858\n",
       "1915.0     2879\n",
       "1905.0     2890\n",
       "2009.0     3063\n",
       "1908.0     3133\n",
       "1914.0     3268\n",
       "2012.0     3438\n",
       "2015.0     3556\n",
       "1932.0     3611\n",
       "1913.0     3997\n",
       "1911.0     4022\n",
       "2008.0     4510\n",
       "2014.0     4714\n",
       "2013.0     4784\n",
       "1935.0     4914\n",
       "1931.0     5450\n",
       "1910.0     5643\n",
       "1982.0     5778\n",
       "1912.0     6010\n",
       "1943.0     6613\n",
       "1920.0     7820\n",
       "2007.0     7978\n",
       "1945.0     8312\n",
       "NaN        9337\n",
       "1921.0     9502\n",
       "1993.0     9601\n",
       "1991.0     9658\n",
       "1930.0     9741\n",
       "1936.0     9934\n",
       "1995.0    10330\n",
       "1996.0    10933\n",
       "1992.0    11088\n",
       "2006.0    11309\n",
       "1929.0    11362\n",
       "1983.0    11539\n",
       "1981.0    11641\n",
       "1997.0    11900\n",
       "2004.0    12209\n",
       "2002.0    12511\n",
       "1937.0    12560\n",
       "1994.0    12601\n",
       "1998.0    12648\n",
       "2003.0    13262\n",
       "1944.0    13380\n",
       "2005.0    13858\n",
       "1928.0    14115\n",
       "1999.0    14446\n",
       "1927.0    14539\n",
       "2000.0    14586\n",
       "2001.0    14786\n",
       "1984.0    14977\n",
       "1938.0    15553\n",
       "1922.0    15853\n",
       "1942.0    16016\n",
       "1975.0    16096\n",
       "1980.0    16630\n",
       "1967.0    17207\n",
       "1974.0    17660\n",
       "1988.0    17697\n",
       "1985.0    17761\n",
       "1946.0    18293\n",
       "1926.0    18561\n",
       "1925.0    20183\n",
       "1970.0    20306\n",
       "1986.0    20320\n",
       "1990.0    20761\n",
       "1939.0    20775\n",
       "1924.0    21535\n",
       "1923.0    21981\n",
       "1966.0    23752\n",
       "1979.0    24290\n",
       "1987.0    25318\n",
       "1978.0    25766\n",
       "1940.0    26030\n",
       "1971.0    26126\n",
       "1973.0    26611\n",
       "1969.0    26945\n",
       "1989.0    27064\n",
       "1941.0    27086\n",
       "1972.0    27698\n",
       "1968.0    27898\n",
       "1976.0    30650\n",
       "1977.0    32718\n",
       "1958.0    34230\n",
       "1961.0    35347\n",
       "1960.0    38014\n",
       "1965.0    40895\n",
       "1962.0    42680\n",
       "1957.0    43023\n",
       "1959.0    43118\n",
       "1949.0    43182\n",
       "1963.0    44211\n",
       "1948.0    45433\n",
       "1947.0    46817\n",
       "1952.0    50726\n",
       "1964.0    52428\n",
       "1951.0    53355\n",
       "1956.0    61942\n",
       "1953.0    62342\n",
       "1954.0    69163\n",
       "1950.0    71693\n",
       "1955.0    84405\n",
       "Name: yearbuilt, dtype: int64"
      ]
     },
     "execution_count": 16,
     "metadata": {},
     "output_type": "execute_result"
    }
   ],
   "source": [
    "zillow.yearbuilt.value_counts(dropna=False, ascending=True)"
   ]
  },
  {
   "cell_type": "code",
   "execution_count": 17,
   "id": "ba99fb04",
   "metadata": {},
   "outputs": [
    {
     "data": {
      "text/plain": [
       "3425.69       1\n",
       "5555.02       1\n",
       "4921.21       1\n",
       "871.75        1\n",
       "3475.45       1\n",
       "           ... \n",
       "285.30       67\n",
       "343.52       75\n",
       "344.18       77\n",
       "345.72      172\n",
       "NaN        4442\n",
       "Name: taxamount, Length: 918839, dtype: int64"
      ]
     },
     "execution_count": 17,
     "metadata": {},
     "output_type": "execute_result"
    }
   ],
   "source": [
    "zillow.taxamount.value_counts(dropna=False, ascending=True)"
   ]
  },
  {
   "cell_type": "code",
   "execution_count": 18,
   "id": "51439bb6",
   "metadata": {},
   "outputs": [],
   "source": [
    "zillow = zillow.dropna()"
   ]
  },
  {
   "cell_type": "code",
   "execution_count": 19,
   "id": "3888915b",
   "metadata": {},
   "outputs": [
    {
     "name": "stdout",
     "output_type": "stream",
     "text": [
      "<class 'pandas.core.frame.DataFrame'>\n",
      "Int64Index: 2140235 entries, 4 to 2152862\n",
      "Data columns (total 7 columns):\n",
      " #   Column                        Dtype  \n",
      "---  ------                        -----  \n",
      " 0   bedroomcnt                    float64\n",
      " 1   bathroomcnt                   float64\n",
      " 2   calculatedfinishedsquarefeet  float64\n",
      " 3   taxvaluedollarcnt             float64\n",
      " 4   yearbuilt                     float64\n",
      " 5   taxamount                     float64\n",
      " 6   fips                          float64\n",
      "dtypes: float64(7)\n",
      "memory usage: 130.6 MB\n"
     ]
    }
   ],
   "source": [
    "zillow.info()"
   ]
  },
  {
   "cell_type": "code",
   "execution_count": 20,
   "id": "df581521",
   "metadata": {},
   "outputs": [
    {
     "data": {
      "text/plain": [
       "bedroomcnt                      0\n",
       "bathroomcnt                     0\n",
       "calculatedfinishedsquarefeet    0\n",
       "taxvaluedollarcnt               0\n",
       "yearbuilt                       0\n",
       "taxamount                       0\n",
       "fips                            0\n",
       "dtype: int64"
      ]
     },
     "execution_count": 20,
     "metadata": {},
     "output_type": "execute_result"
    }
   ],
   "source": [
    "zillow.isnull().sum()"
   ]
  },
  {
   "cell_type": "code",
   "execution_count": 21,
   "id": "bacb3dee",
   "metadata": {
    "scrolled": false
   },
   "outputs": [
    {
     "data": {
      "text/html": [
       "<div>\n",
       "<style scoped>\n",
       "    .dataframe tbody tr th:only-of-type {\n",
       "        vertical-align: middle;\n",
       "    }\n",
       "\n",
       "    .dataframe tbody tr th {\n",
       "        vertical-align: top;\n",
       "    }\n",
       "\n",
       "    .dataframe thead th {\n",
       "        text-align: right;\n",
       "    }\n",
       "</style>\n",
       "<table border=\"1\" class=\"dataframe\">\n",
       "  <thead>\n",
       "    <tr style=\"text-align: right;\">\n",
       "      <th></th>\n",
       "      <th>bedroomcnt</th>\n",
       "      <th>bathroomcnt</th>\n",
       "      <th>calculatedfinishedsquarefeet</th>\n",
       "      <th>taxvaluedollarcnt</th>\n",
       "      <th>yearbuilt</th>\n",
       "      <th>taxamount</th>\n",
       "      <th>fips</th>\n",
       "    </tr>\n",
       "  </thead>\n",
       "  <tbody>\n",
       "    <tr>\n",
       "      <th>count</th>\n",
       "      <td>2.140235e+06</td>\n",
       "      <td>2.140235e+06</td>\n",
       "      <td>2.140235e+06</td>\n",
       "      <td>2.140235e+06</td>\n",
       "      <td>2.140235e+06</td>\n",
       "      <td>2.140235e+06</td>\n",
       "      <td>2.140235e+06</td>\n",
       "    </tr>\n",
       "    <tr>\n",
       "      <th>mean</th>\n",
       "      <td>3.301419e+00</td>\n",
       "      <td>2.240352e+00</td>\n",
       "      <td>1.863194e+03</td>\n",
       "      <td>4.606416e+05</td>\n",
       "      <td>1.960968e+03</td>\n",
       "      <td>5.616711e+03</td>\n",
       "      <td>6.048310e+03</td>\n",
       "    </tr>\n",
       "    <tr>\n",
       "      <th>std</th>\n",
       "      <td>9.325998e-01</td>\n",
       "      <td>9.905489e-01</td>\n",
       "      <td>1.221754e+03</td>\n",
       "      <td>6.771576e+05</td>\n",
       "      <td>2.215056e+01</td>\n",
       "      <td>7.814563e+03</td>\n",
       "      <td>2.034491e+01</td>\n",
       "    </tr>\n",
       "    <tr>\n",
       "      <th>min</th>\n",
       "      <td>0.000000e+00</td>\n",
       "      <td>0.000000e+00</td>\n",
       "      <td>1.000000e+00</td>\n",
       "      <td>2.200000e+01</td>\n",
       "      <td>1.801000e+03</td>\n",
       "      <td>6.340000e+00</td>\n",
       "      <td>6.037000e+03</td>\n",
       "    </tr>\n",
       "    <tr>\n",
       "      <th>25%</th>\n",
       "      <td>3.000000e+00</td>\n",
       "      <td>2.000000e+00</td>\n",
       "      <td>1.258000e+03</td>\n",
       "      <td>1.891660e+05</td>\n",
       "      <td>1.949000e+03</td>\n",
       "      <td>2.540850e+03</td>\n",
       "      <td>6.037000e+03</td>\n",
       "    </tr>\n",
       "    <tr>\n",
       "      <th>50%</th>\n",
       "      <td>3.000000e+00</td>\n",
       "      <td>2.000000e+00</td>\n",
       "      <td>1.623000e+03</td>\n",
       "      <td>3.282960e+05</td>\n",
       "      <td>1.958000e+03</td>\n",
       "      <td>4.111470e+03</td>\n",
       "      <td>6.037000e+03</td>\n",
       "    </tr>\n",
       "    <tr>\n",
       "      <th>75%</th>\n",
       "      <td>4.000000e+00</td>\n",
       "      <td>3.000000e+00</td>\n",
       "      <td>2.208000e+03</td>\n",
       "      <td>5.346060e+05</td>\n",
       "      <td>1.976000e+03</td>\n",
       "      <td>6.411930e+03</td>\n",
       "      <td>6.059000e+03</td>\n",
       "    </tr>\n",
       "    <tr>\n",
       "      <th>max</th>\n",
       "      <td>2.500000e+01</td>\n",
       "      <td>3.200000e+01</td>\n",
       "      <td>9.525760e+05</td>\n",
       "      <td>9.018846e+07</td>\n",
       "      <td>2.016000e+03</td>\n",
       "      <td>1.078102e+06</td>\n",
       "      <td>6.111000e+03</td>\n",
       "    </tr>\n",
       "  </tbody>\n",
       "</table>\n",
       "</div>"
      ],
      "text/plain": [
       "         bedroomcnt   bathroomcnt  calculatedfinishedsquarefeet  \\\n",
       "count  2.140235e+06  2.140235e+06                  2.140235e+06   \n",
       "mean   3.301419e+00  2.240352e+00                  1.863194e+03   \n",
       "std    9.325998e-01  9.905489e-01                  1.221754e+03   \n",
       "min    0.000000e+00  0.000000e+00                  1.000000e+00   \n",
       "25%    3.000000e+00  2.000000e+00                  1.258000e+03   \n",
       "50%    3.000000e+00  2.000000e+00                  1.623000e+03   \n",
       "75%    4.000000e+00  3.000000e+00                  2.208000e+03   \n",
       "max    2.500000e+01  3.200000e+01                  9.525760e+05   \n",
       "\n",
       "       taxvaluedollarcnt     yearbuilt     taxamount          fips  \n",
       "count       2.140235e+06  2.140235e+06  2.140235e+06  2.140235e+06  \n",
       "mean        4.606416e+05  1.960968e+03  5.616711e+03  6.048310e+03  \n",
       "std         6.771576e+05  2.215056e+01  7.814563e+03  2.034491e+01  \n",
       "min         2.200000e+01  1.801000e+03  6.340000e+00  6.037000e+03  \n",
       "25%         1.891660e+05  1.949000e+03  2.540850e+03  6.037000e+03  \n",
       "50%         3.282960e+05  1.958000e+03  4.111470e+03  6.037000e+03  \n",
       "75%         5.346060e+05  1.976000e+03  6.411930e+03  6.059000e+03  \n",
       "max         9.018846e+07  2.016000e+03  1.078102e+06  6.111000e+03  "
      ]
     },
     "execution_count": 21,
     "metadata": {},
     "output_type": "execute_result"
    }
   ],
   "source": [
    "zillow.describe()"
   ]
  },
  {
   "cell_type": "code",
   "execution_count": 22,
   "id": "d38bba60",
   "metadata": {},
   "outputs": [
    {
     "data": {
      "text/plain": [
       "0"
      ]
     },
     "execution_count": 22,
     "metadata": {},
     "output_type": "execute_result"
    }
   ],
   "source": [
    "(zillow.bedroomcnt.astype(int) != zillow.bedroomcnt).sum()"
   ]
  },
  {
   "cell_type": "code",
   "execution_count": 23,
   "id": "df3ebcb6",
   "metadata": {},
   "outputs": [
    {
     "data": {
      "text/plain": [
       "230034"
      ]
     },
     "execution_count": 23,
     "metadata": {},
     "output_type": "execute_result"
    }
   ],
   "source": [
    "(zillow.bathroomcnt.astype(int) != zillow.bathroomcnt).sum()"
   ]
  },
  {
   "cell_type": "code",
   "execution_count": 24,
   "id": "dd42baa4",
   "metadata": {},
   "outputs": [
    {
     "data": {
      "text/plain": [
       "0"
      ]
     },
     "execution_count": 24,
     "metadata": {},
     "output_type": "execute_result"
    }
   ],
   "source": [
    "(zillow.calculatedfinishedsquarefeet.astype(int) != zillow.calculatedfinishedsquarefeet).sum()"
   ]
  },
  {
   "cell_type": "code",
   "execution_count": 25,
   "id": "da766715",
   "metadata": {},
   "outputs": [
    {
     "data": {
      "text/plain": [
       "0"
      ]
     },
     "execution_count": 25,
     "metadata": {},
     "output_type": "execute_result"
    }
   ],
   "source": [
    "(zillow.taxvaluedollarcnt.astype(int) != zillow.taxvaluedollarcnt).sum()"
   ]
  },
  {
   "cell_type": "code",
   "execution_count": 26,
   "id": "7145784b",
   "metadata": {},
   "outputs": [
    {
     "data": {
      "text/plain": [
       "0"
      ]
     },
     "execution_count": 26,
     "metadata": {},
     "output_type": "execute_result"
    }
   ],
   "source": [
    "(zillow.yearbuilt.astype(int) != zillow.yearbuilt).sum()"
   ]
  },
  {
   "cell_type": "code",
   "execution_count": 27,
   "id": "2fd06d64",
   "metadata": {},
   "outputs": [
    {
     "data": {
      "text/plain": [
       "2111620"
      ]
     },
     "execution_count": 27,
     "metadata": {},
     "output_type": "execute_result"
    }
   ],
   "source": [
    "(zillow.taxamount.astype(int) != zillow.taxamount).sum()"
   ]
  },
  {
   "cell_type": "code",
   "execution_count": 28,
   "id": "0c4099f1",
   "metadata": {},
   "outputs": [
    {
     "data": {
      "text/plain": [
       "0"
      ]
     },
     "execution_count": 28,
     "metadata": {},
     "output_type": "execute_result"
    }
   ],
   "source": [
    "(zillow.fips.astype(int) != zillow.fips).sum()"
   ]
  },
  {
   "cell_type": "code",
   "execution_count": 29,
   "id": "c42fa6e0",
   "metadata": {},
   "outputs": [
    {
     "name": "stderr",
     "output_type": "stream",
     "text": [
      "/var/folders/jv/wt_gjk6n74bcbzwl91qys7sr0000gn/T/ipykernel_1284/2989983864.py:2: UserWarning: \n",
      "\n",
      "`distplot` is a deprecated function and will be removed in seaborn v0.14.0.\n",
      "\n",
      "Please adapt your code to use either `displot` (a figure-level function with\n",
      "similar flexibility) or `histplot` (an axes-level function for histograms).\n",
      "\n",
      "For a guide to updating your code to use the new functions, please see\n",
      "https://gist.github.com/mwaskom/de44147ed2974457ad6372750bbe5751\n",
      "\n",
      "  sns.distplot(x=zillow[col])\n"
     ]
    },
    {
     "data": {
      "image/png": "[encoded data removed]",
      "text/plain": [
       "<Figure size 640x480 with 1 Axes>"
      ]
     },
     "metadata": {},
     "output_type": "display_data"
    },
    {
     "name": "stderr",
     "output_type": "stream",
     "text": [
      "/var/folders/jv/wt_gjk6n74bcbzwl91qys7sr0000gn/T/ipykernel_1284/2989983864.py:2: UserWarning: \n",
      "\n",
      "`distplot` is a deprecated function and will be removed in seaborn v0.14.0.\n",
      "\n",
      "Please adapt your code to use either `displot` (a figure-level function with\n",
      "similar flexibility) or `histplot` (an axes-level function for histograms).\n",
      "\n",
      "For a guide to updating your code to use the new functions, please see\n",
      "https://gist.github.com/mwaskom/de44147ed2974457ad6372750bbe5751\n",
      "\n",
      "  sns.distplot(x=zillow[col])\n"
     ]
    },
    {
     "data": {
      "image/png": "[encoded data removed]",
      "text/plain": [
       "<Figure size 640x480 with 1 Axes>"
      ]
     },
     "metadata": {},
     "output_type": "display_data"
    },
    {
     "name": "stderr",
     "output_type": "stream",
     "text": [
      "/var/folders/jv/wt_gjk6n74bcbzwl91qys7sr0000gn/T/ipykernel_1284/2989983864.py:2: UserWarning: \n",
      "\n",
      "`distplot` is a deprecated function and will be removed in seaborn v0.14.0.\n",
      "\n",
      "Please adapt your code to use either `displot` (a figure-level function with\n",
      "similar flexibility) or `histplot` (an axes-level function for histograms).\n",
      "\n",
      "For a guide to updating your code to use the new functions, please see\n",
      "https://gist.github.com/mwaskom/de44147ed2974457ad6372750bbe5751\n",
      "\n",
      "  sns.distplot(x=zillow[col])\n"
     ]
    },
    {
     "data": {
      "image/png": "[encoded data removed]",
      "text/plain": [
       "<Figure size 640x480 with 1 Axes>"
      ]
     },
     "metadata": {},
     "output_type": "display_data"
    },
    {
     "name": "stderr",
     "output_type": "stream",
     "text": [
      "/var/folders/jv/wt_gjk6n74bcbzwl91qys7sr0000gn/T/ipykernel_1284/2989983864.py:2: UserWarning: \n",
      "\n",
      "`distplot` is a deprecated function and will be removed in seaborn v0.14.0.\n",
      "\n",
      "Please adapt your code to use either `displot` (a figure-level function with\n",
      "similar flexibility) or `histplot` (an axes-level function for histograms).\n",
      "\n",
      "For a guide to updating your code to use the new functions, please see\n",
      "https://gist.github.com/mwaskom/de44147ed2974457ad6372750bbe5751\n",
      "\n",
      "  sns.distplot(x=zillow[col])\n"
     ]
    },
    {
     "data": {
      "image/png": "[encoded data removed]",
      "text/plain": [
       "<Figure size 640x480 with 1 Axes>"
      ]
     },
     "metadata": {},
     "output_type": "display_data"
    },
    {
     "name": "stderr",
     "output_type": "stream",
     "text": [
      "/var/folders/jv/wt_gjk6n74bcbzwl91qys7sr0000gn/T/ipykernel_1284/2989983864.py:2: UserWarning: \n",
      "\n",
      "`distplot` is a deprecated function and will be removed in seaborn v0.14.0.\n",
      "\n",
      "Please adapt your code to use either `displot` (a figure-level function with\n",
      "similar flexibility) or `histplot` (an axes-level function for histograms).\n",
      "\n",
      "For a guide to updating your code to use the new functions, please see\n",
      "https://gist.github.com/mwaskom/de44147ed2974457ad6372750bbe5751\n",
      "\n",
      "  sns.distplot(x=zillow[col])\n"
     ]
    },
    {
     "data": {
      "image/png": "[encoded data removed]",
      "text/plain": [
       "<Figure size 640x480 with 1 Axes>"
      ]
     },
     "metadata": {},
     "output_type": "display_data"
    },
    {
     "name": "stderr",
     "output_type": "stream",
     "text": [
      "/var/folders/jv/wt_gjk6n74bcbzwl91qys7sr0000gn/T/ipykernel_1284/2989983864.py:2: UserWarning: \n",
      "\n",
      "`distplot` is a deprecated function and will be removed in seaborn v0.14.0.\n",
      "\n",
      "Please adapt your code to use either `displot` (a figure-level function with\n",
      "similar flexibility) or `histplot` (an axes-level function for histograms).\n",
      "\n",
      "For a guide to updating your code to use the new functions, please see\n",
      "https://gist.github.com/mwaskom/de44147ed2974457ad6372750bbe5751\n",
      "\n",
      "  sns.distplot(x=zillow[col])\n"
     ]
    },
    {
     "data": {
      "image/png": "[encoded data removed]",
      "text/plain": [
       "<Figure size 640x480 with 1 Axes>"
      ]
     },
     "metadata": {},
     "output_type": "display_data"
    },
    {
     "name": "stderr",
     "output_type": "stream",
     "text": [
      "/var/folders/jv/wt_gjk6n74bcbzwl91qys7sr0000gn/T/ipykernel_1284/2989983864.py:2: UserWarning: \n",
      "\n",
      "`distplot` is a deprecated function and will be removed in seaborn v0.14.0.\n",
      "\n",
      "Please adapt your code to use either `displot` (a figure-level function with\n",
      "similar flexibility) or `histplot` (an axes-level function for histograms).\n",
      "\n",
      "For a guide to updating your code to use the new functions, please see\n",
      "https://gist.github.com/mwaskom/de44147ed2974457ad6372750bbe5751\n",
      "\n",
      "  sns.distplot(x=zillow[col])\n"
     ]
    },
    {
     "data": {
      "image/png": "[encoded data removed]",
      "text/plain": [
       "<Figure size 640x480 with 1 Axes>"
      ]
     },
     "metadata": {},
     "output_type": "display_data"
    }
   ],
   "source": [
    "for col in zillow.columns:\n",
    "    sns.distplot(x=zillow[col])\n",
    "    plt.title(f'{col}')\n",
    "    plt.show()"
   ]
  },
  {
   "cell_type": "code",
   "execution_count": 30,
   "id": "032379a4",
   "metadata": {},
   "outputs": [
    {
     "data": {
      "text/plain": [
       "Index(['bedroomcnt', 'bathroomcnt', 'calculatedfinishedsquarefeet',\n",
       "       'taxvaluedollarcnt', 'yearbuilt', 'taxamount', 'fips'],\n",
       "      dtype='object')"
      ]
     },
     "execution_count": 30,
     "metadata": {},
     "output_type": "execute_result"
    }
   ],
   "source": [
    "cols = zillow.columns\n",
    "cols"
   ]
  },
  {
   "cell_type": "code",
   "execution_count": 31,
   "id": "1a643481",
   "metadata": {},
   "outputs": [
    {
     "data": {
      "image/png": "[encoded data removed]",
      "text/plain": [
       "<Figure size 2300x300 with 7 Axes>"
      ]
     },
     "metadata": {},
     "output_type": "display_data"
    }
   ],
   "source": [
    "plt.figure(figsize=(23,3))\n",
    "\n",
    "for i, col in enumerate(cols):\n",
    "    \n",
    "    plot_number = i + 1\n",
    "    \n",
    "    plt.subplot(1,7, plot_number)\n",
    "    \n",
    "    plt.title(col)\n",
    "    \n",
    "    zillow[col].hist(bins=25)\n",
    "    \n",
    "    plt.grid(False)"
   ]
  },
  {
   "cell_type": "code",
   "execution_count": 33,
   "id": "e5e3bdfa",
   "metadata": {},
   "outputs": [],
   "source": [
    "zillow = zillow.rename(columns = {'bedroomcnt': 'bedrooms',\n",
    "                                 'bathroomcnt': 'bathrooms',\n",
    "                                 'calculatedfinishedsquarefeet': 'sqft',\n",
    "                                 'taxvaluedollarcnt': 'tax_value',\n",
    "                                 'yearbuilt': 'year_built',\n",
    "                                 'taxamount': 'tax_amount'})"
   ]
  },
  {
   "cell_type": "code",
   "execution_count": 34,
   "id": "df0121d2",
   "metadata": {},
   "outputs": [
    {
     "data": {
      "text/html": [
       "<div>\n",
       "<style scoped>\n",
       "    .dataframe tbody tr th:only-of-type {\n",
       "        vertical-align: middle;\n",
       "    }\n",
       "\n",
       "    .dataframe tbody tr th {\n",
       "        vertical-align: top;\n",
       "    }\n",
       "\n",
       "    .dataframe thead th {\n",
       "        text-align: right;\n",
       "    }\n",
       "</style>\n",
       "<table border=\"1\" class=\"dataframe\">\n",
       "  <thead>\n",
       "    <tr style=\"text-align: right;\">\n",
       "      <th></th>\n",
       "      <th>bedrooms</th>\n",
       "      <th>bathrooms</th>\n",
       "      <th>sqft</th>\n",
       "      <th>tax_value</th>\n",
       "      <th>year_built</th>\n",
       "      <th>tax_amount</th>\n",
       "      <th>fips</th>\n",
       "    </tr>\n",
       "  </thead>\n",
       "  <tbody>\n",
       "    <tr>\n",
       "      <th>4</th>\n",
       "      <td>4.0</td>\n",
       "      <td>2.0</td>\n",
       "      <td>3633.0</td>\n",
       "      <td>296425.0</td>\n",
       "      <td>2005.0</td>\n",
       "      <td>6941.39</td>\n",
       "      <td>6037.0</td>\n",
       "    </tr>\n",
       "    <tr>\n",
       "      <th>6</th>\n",
       "      <td>3.0</td>\n",
       "      <td>4.0</td>\n",
       "      <td>1620.0</td>\n",
       "      <td>847770.0</td>\n",
       "      <td>2011.0</td>\n",
       "      <td>10244.94</td>\n",
       "      <td>6037.0</td>\n",
       "    </tr>\n",
       "    <tr>\n",
       "      <th>7</th>\n",
       "      <td>3.0</td>\n",
       "      <td>2.0</td>\n",
       "      <td>2077.0</td>\n",
       "      <td>646760.0</td>\n",
       "      <td>1926.0</td>\n",
       "      <td>7924.68</td>\n",
       "      <td>6037.0</td>\n",
       "    </tr>\n",
       "    <tr>\n",
       "      <th>11</th>\n",
       "      <td>0.0</td>\n",
       "      <td>0.0</td>\n",
       "      <td>1200.0</td>\n",
       "      <td>5328.0</td>\n",
       "      <td>1972.0</td>\n",
       "      <td>91.60</td>\n",
       "      <td>6037.0</td>\n",
       "    </tr>\n",
       "    <tr>\n",
       "      <th>14</th>\n",
       "      <td>0.0</td>\n",
       "      <td>0.0</td>\n",
       "      <td>171.0</td>\n",
       "      <td>6920.0</td>\n",
       "      <td>1973.0</td>\n",
       "      <td>255.17</td>\n",
       "      <td>6037.0</td>\n",
       "    </tr>\n",
       "    <tr>\n",
       "      <th>...</th>\n",
       "      <td>...</td>\n",
       "      <td>...</td>\n",
       "      <td>...</td>\n",
       "      <td>...</td>\n",
       "      <td>...</td>\n",
       "      <td>...</td>\n",
       "      <td>...</td>\n",
       "    </tr>\n",
       "    <tr>\n",
       "      <th>2152856</th>\n",
       "      <td>4.0</td>\n",
       "      <td>4.0</td>\n",
       "      <td>4375.0</td>\n",
       "      <td>422400.0</td>\n",
       "      <td>2015.0</td>\n",
       "      <td>13877.56</td>\n",
       "      <td>6037.0</td>\n",
       "    </tr>\n",
       "    <tr>\n",
       "      <th>2152858</th>\n",
       "      <td>4.0</td>\n",
       "      <td>3.0</td>\n",
       "      <td>2262.0</td>\n",
       "      <td>960756.0</td>\n",
       "      <td>2015.0</td>\n",
       "      <td>13494.52</td>\n",
       "      <td>6059.0</td>\n",
       "    </tr>\n",
       "    <tr>\n",
       "      <th>2152859</th>\n",
       "      <td>4.0</td>\n",
       "      <td>4.5</td>\n",
       "      <td>3127.0</td>\n",
       "      <td>536061.0</td>\n",
       "      <td>2014.0</td>\n",
       "      <td>6244.16</td>\n",
       "      <td>6059.0</td>\n",
       "    </tr>\n",
       "    <tr>\n",
       "      <th>2152861</th>\n",
       "      <td>3.0</td>\n",
       "      <td>2.5</td>\n",
       "      <td>1974.0</td>\n",
       "      <td>424353.0</td>\n",
       "      <td>2015.0</td>\n",
       "      <td>5302.70</td>\n",
       "      <td>6059.0</td>\n",
       "    </tr>\n",
       "    <tr>\n",
       "      <th>2152862</th>\n",
       "      <td>4.0</td>\n",
       "      <td>4.0</td>\n",
       "      <td>2110.0</td>\n",
       "      <td>554009.0</td>\n",
       "      <td>2014.0</td>\n",
       "      <td>6761.20</td>\n",
       "      <td>6037.0</td>\n",
       "    </tr>\n",
       "  </tbody>\n",
       "</table>\n",
       "<p>2140235 rows × 7 columns</p>\n",
       "</div>"
      ],
      "text/plain": [
       "         bedrooms  bathrooms    sqft  tax_value  year_built  tax_amount  \\\n",
       "4             4.0        2.0  3633.0   296425.0      2005.0     6941.39   \n",
       "6             3.0        4.0  1620.0   847770.0      2011.0    10244.94   \n",
       "7             3.0        2.0  2077.0   646760.0      1926.0     7924.68   \n",
       "11            0.0        0.0  1200.0     5328.0      1972.0       91.60   \n",
       "14            0.0        0.0   171.0     6920.0      1973.0      255.17   \n",
       "...           ...        ...     ...        ...         ...         ...   \n",
       "2152856       4.0        4.0  4375.0   422400.0      2015.0    13877.56   \n",
       "2152858       4.0        3.0  2262.0   960756.0      2015.0    13494.52   \n",
       "2152859       4.0        4.5  3127.0   536061.0      2014.0     6244.16   \n",
       "2152861       3.0        2.5  1974.0   424353.0      2015.0     5302.70   \n",
       "2152862       4.0        4.0  2110.0   554009.0      2014.0     6761.20   \n",
       "\n",
       "           fips  \n",
       "4        6037.0  \n",
       "6        6037.0  \n",
       "7        6037.0  \n",
       "11       6037.0  \n",
       "14       6037.0  \n",
       "...         ...  \n",
       "2152856  6037.0  \n",
       "2152858  6059.0  \n",
       "2152859  6059.0  \n",
       "2152861  6059.0  \n",
       "2152862  6037.0  \n",
       "\n",
       "[2140235 rows x 7 columns]"
      ]
     },
     "execution_count": 34,
     "metadata": {},
     "output_type": "execute_result"
    }
   ],
   "source": [
    "zillow"
   ]
  },
  {
   "cell_type": "code",
   "execution_count": 35,
   "id": "59d928dc",
   "metadata": {},
   "outputs": [],
   "source": [
    "zillow.drop_duplicates(inplace=True)"
   ]
  },
  {
   "cell_type": "code",
   "execution_count": 36,
   "id": "79945794",
   "metadata": {},
   "outputs": [
    {
     "data": {
      "text/html": [
       "<div>\n",
       "<style scoped>\n",
       "    .dataframe tbody tr th:only-of-type {\n",
       "        vertical-align: middle;\n",
       "    }\n",
       "\n",
       "    .dataframe tbody tr th {\n",
       "        vertical-align: top;\n",
       "    }\n",
       "\n",
       "    .dataframe thead th {\n",
       "        text-align: right;\n",
       "    }\n",
       "</style>\n",
       "<table border=\"1\" class=\"dataframe\">\n",
       "  <thead>\n",
       "    <tr style=\"text-align: right;\">\n",
       "      <th></th>\n",
       "      <th>bedrooms</th>\n",
       "      <th>bathrooms</th>\n",
       "      <th>sqft</th>\n",
       "      <th>tax_value</th>\n",
       "      <th>year_built</th>\n",
       "      <th>tax_amount</th>\n",
       "      <th>fips</th>\n",
       "    </tr>\n",
       "  </thead>\n",
       "  <tbody>\n",
       "    <tr>\n",
       "      <th>4</th>\n",
       "      <td>4.0</td>\n",
       "      <td>2.0</td>\n",
       "      <td>3633.0</td>\n",
       "      <td>296425.0</td>\n",
       "      <td>2005.0</td>\n",
       "      <td>6941.39</td>\n",
       "      <td>6037.0</td>\n",
       "    </tr>\n",
       "    <tr>\n",
       "      <th>6</th>\n",
       "      <td>3.0</td>\n",
       "      <td>4.0</td>\n",
       "      <td>1620.0</td>\n",
       "      <td>847770.0</td>\n",
       "      <td>2011.0</td>\n",
       "      <td>10244.94</td>\n",
       "      <td>6037.0</td>\n",
       "    </tr>\n",
       "    <tr>\n",
       "      <th>7</th>\n",
       "      <td>3.0</td>\n",
       "      <td>2.0</td>\n",
       "      <td>2077.0</td>\n",
       "      <td>646760.0</td>\n",
       "      <td>1926.0</td>\n",
       "      <td>7924.68</td>\n",
       "      <td>6037.0</td>\n",
       "    </tr>\n",
       "    <tr>\n",
       "      <th>11</th>\n",
       "      <td>0.0</td>\n",
       "      <td>0.0</td>\n",
       "      <td>1200.0</td>\n",
       "      <td>5328.0</td>\n",
       "      <td>1972.0</td>\n",
       "      <td>91.60</td>\n",
       "      <td>6037.0</td>\n",
       "    </tr>\n",
       "    <tr>\n",
       "      <th>14</th>\n",
       "      <td>0.0</td>\n",
       "      <td>0.0</td>\n",
       "      <td>171.0</td>\n",
       "      <td>6920.0</td>\n",
       "      <td>1973.0</td>\n",
       "      <td>255.17</td>\n",
       "      <td>6037.0</td>\n",
       "    </tr>\n",
       "    <tr>\n",
       "      <th>...</th>\n",
       "      <td>...</td>\n",
       "      <td>...</td>\n",
       "      <td>...</td>\n",
       "      <td>...</td>\n",
       "      <td>...</td>\n",
       "      <td>...</td>\n",
       "      <td>...</td>\n",
       "    </tr>\n",
       "    <tr>\n",
       "      <th>2152855</th>\n",
       "      <td>3.0</td>\n",
       "      <td>2.5</td>\n",
       "      <td>1809.0</td>\n",
       "      <td>405547.0</td>\n",
       "      <td>2012.0</td>\n",
       "      <td>4181.10</td>\n",
       "      <td>6059.0</td>\n",
       "    </tr>\n",
       "    <tr>\n",
       "      <th>2152856</th>\n",
       "      <td>4.0</td>\n",
       "      <td>4.0</td>\n",
       "      <td>4375.0</td>\n",
       "      <td>422400.0</td>\n",
       "      <td>2015.0</td>\n",
       "      <td>13877.56</td>\n",
       "      <td>6037.0</td>\n",
       "    </tr>\n",
       "    <tr>\n",
       "      <th>2152858</th>\n",
       "      <td>4.0</td>\n",
       "      <td>3.0</td>\n",
       "      <td>2262.0</td>\n",
       "      <td>960756.0</td>\n",
       "      <td>2015.0</td>\n",
       "      <td>13494.52</td>\n",
       "      <td>6059.0</td>\n",
       "    </tr>\n",
       "    <tr>\n",
       "      <th>2152859</th>\n",
       "      <td>4.0</td>\n",
       "      <td>4.5</td>\n",
       "      <td>3127.0</td>\n",
       "      <td>536061.0</td>\n",
       "      <td>2014.0</td>\n",
       "      <td>6244.16</td>\n",
       "      <td>6059.0</td>\n",
       "    </tr>\n",
       "    <tr>\n",
       "      <th>2152862</th>\n",
       "      <td>4.0</td>\n",
       "      <td>4.0</td>\n",
       "      <td>2110.0</td>\n",
       "      <td>554009.0</td>\n",
       "      <td>2014.0</td>\n",
       "      <td>6761.20</td>\n",
       "      <td>6037.0</td>\n",
       "    </tr>\n",
       "  </tbody>\n",
       "</table>\n",
       "<p>2130214 rows × 7 columns</p>\n",
       "</div>"
      ],
      "text/plain": [
       "         bedrooms  bathrooms    sqft  tax_value  year_built  tax_amount  \\\n",
       "4             4.0        2.0  3633.0   296425.0      2005.0     6941.39   \n",
       "6             3.0        4.0  1620.0   847770.0      2011.0    10244.94   \n",
       "7             3.0        2.0  2077.0   646760.0      1926.0     7924.68   \n",
       "11            0.0        0.0  1200.0     5328.0      1972.0       91.60   \n",
       "14            0.0        0.0   171.0     6920.0      1973.0      255.17   \n",
       "...           ...        ...     ...        ...         ...         ...   \n",
       "2152855       3.0        2.5  1809.0   405547.0      2012.0     4181.10   \n",
       "2152856       4.0        4.0  4375.0   422400.0      2015.0    13877.56   \n",
       "2152858       4.0        3.0  2262.0   960756.0      2015.0    13494.52   \n",
       "2152859       4.0        4.5  3127.0   536061.0      2014.0     6244.16   \n",
       "2152862       4.0        4.0  2110.0   554009.0      2014.0     6761.20   \n",
       "\n",
       "           fips  \n",
       "4        6037.0  \n",
       "6        6037.0  \n",
       "7        6037.0  \n",
       "11       6037.0  \n",
       "14       6037.0  \n",
       "...         ...  \n",
       "2152855  6059.0  \n",
       "2152856  6037.0  \n",
       "2152858  6059.0  \n",
       "2152859  6059.0  \n",
       "2152862  6037.0  \n",
       "\n",
       "[2130214 rows x 7 columns]"
      ]
     },
     "execution_count": 36,
     "metadata": {},
     "output_type": "execute_result"
    }
   ],
   "source": [
    "zillow"
   ]
  },
  {
   "cell_type": "code",
   "execution_count": null,
   "id": "38e071fd",
   "metadata": {},
   "outputs": [],
   "source": [
    "zillow = zillow.dropna()\n",
    "zillow.drop_duplicates(inplace=True)"
   ]
  },
  {
   "cell_type": "code",
   "execution_count": null,
   "id": "e423598f",
   "metadata": {},
   "outputs": [],
   "source": []
  },
  {
   "cell_type": "code",
   "execution_count": 41,
   "id": "37bb33f6",
   "metadata": {},
   "outputs": [],
   "source": [
    "def split_data_label(df, stratify_col=None, target_col=None, test_size=.2, validate_size=.2):\n",
    "    \n",
    "    if stratify_col != None:\n",
    "        train_validate, test = train_test_split(df, test_size = .2, random_state=823, stratify=df[stratify_col])\n",
    "        train, validate = train_test_split(train_validate, test_size= validate_size / (1 - test_size), random_state=823, stratify=train_validate[stratify_col])\n",
    "    \n",
    "        X_train = train.drop(columns=[stratify_col])\n",
    "        y_train = train[stratify_col]\n",
    "\n",
    "        X_validate = validate.drop(columns=[stratify_col])\n",
    "        y_validate = validate[stratify_col]\n",
    "\n",
    "        X_test = test.drop(columns=[stratify_col])\n",
    "        y_test = test[stratify_col]\n",
    "        \n",
    "    return X_train, y_train, X_validate, y_validate, X_test, y_test\n",
    "\n",
    "    else:\n",
    "        train_validate, test = train_test_split(df, test_size = .2, random_state=823)\n",
    "        train, validate = train_test_split(train_validate, test_size= validate_size / (1 - test_size), random_state=823)\n",
    "    \n",
    "        X_train = train.drop(columns=[target_col])\n",
    "        y_train = train[target_col]\n",
    "\n",
    "        X_validate = validate.drop(columns=[target_col])\n",
    "        y_validate = validate[target_col]\n",
    "\n",
    "        X_test = test.drop(columns=[target_col])\n",
    "        y_test = test[target_col]\n",
    "\n",
    "    return X_train, y_train, X_validate, y_validate, X_test, y_test"
   ]
  },
  {
   "cell_type": "code",
   "execution_count": null,
   "id": "280e752d",
   "metadata": {},
   "outputs": [],
   "source": [
    "def wrangle_zillow():\n",
    "    zillow = acquire.get_zillow_data()\n",
    "    zillow = zillow.dropna()\n",
    "    zillow.drop_duplicates(inplace=True)"
   ]
  },
  {
   "cell_type": "code",
   "execution_count": null,
   "id": "1188cb17",
   "metadata": {},
   "outputs": [],
   "source": []
  }
 ],
 "metadata": {
  "kernelspec": {
   "display_name": "Python 3 (ipykernel)",
   "language": "python",
   "name": "python3"
  },
  "language_info": {
   "codemirror_mode": {
    "name": "ipython",
    "version": 3
   },
   "file_extension": ".py",
   "mimetype": "text/x-python",
   "name": "python",
   "nbconvert_exporter": "python",
   "pygments_lexer": "ipython3",
   "version": "3.10.9"
  }
 },
 "nbformat": 4,
 "nbformat_minor": 5
}
